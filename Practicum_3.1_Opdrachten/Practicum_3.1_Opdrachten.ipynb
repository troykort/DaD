{
 "cells": [
  {
   "cell_type": "code",
   "execution_count": 6,
   "metadata": {},
   "outputs": [],
   "source": [
    "\n",
    "array1 = [33, 12, 45, 7, 88, 21, 56, 39, 10, 17, 92, 25, 68, 31, 84, 50, 3, 62, 95, 14]\n",
    "array2 = [18, 75, 28, 9, 41, 64, 29, 53, 86, 37, 22, 59, 4, 67, 90, 13, 48, 81, 36, 5]\n",
    "array3 = [72, 20, 43, 8, 55, 98, 15, 78, 32, 69, 91, 24, 57, 83, 46, 1, 74, 27, 60, 38]\n"
   ]
  },
  {
   "cell_type": "code",
   "execution_count": 7,
   "metadata": {},
   "outputs": [
    {
     "data": {
      "text/plain": [
       "[3, 7, 10, 12, 14, 17, 21, 25, 31, 33, 39, 45, 50, 56, 62, 68, 84, 88, 92, 95]"
      ]
     },
     "execution_count": 7,
     "metadata": {},
     "output_type": "execute_result"
    }
   ],
   "source": [
    "def bubble_sort(arr):\n",
    "    n = len(arr)\n",
    "    for i in range(n):\n",
    "        for j in range(0, n-i-1):\n",
    "            if arr[j] > arr[j+1]:\n",
    "                arr[j], arr[j+1] = arr[j+1], arr[j]\n",
    "    return arr\n",
    "\n",
    "sorted_array1_bubble = bubble_sort(array1)\n",
    "sorted_array1_bubble\n",
    "\n"
   ]
  },
  {
   "cell_type": "code",
   "execution_count": 8,
   "metadata": {},
   "outputs": [
    {
     "data": {
      "text/plain": [
       "[4, 5, 9, 13, 18, 22, 28, 29, 36, 37, 41, 48, 53, 59, 64, 67, 75, 81, 86, 90]"
      ]
     },
     "execution_count": 8,
     "metadata": {},
     "output_type": "execute_result"
    }
   ],
   "source": [
    "def insertion_sort(arr):\n",
    "    for i in range(1, len(arr)):\n",
    "        key = arr[i]\n",
    "        j = i - 1\n",
    "        while j >= 0 and key < arr[j]:\n",
    "            arr[j + 1] = arr[j]\n",
    "            j -= 1\n",
    "        arr[j + 1] = key\n",
    "    return arr\n",
    "\n",
    "sorted_array2_insertion = insertion_sort(array2)\n",
    "sorted_array2_insertion\n"
   ]
  },
  {
   "cell_type": "code",
   "execution_count": 16,
   "metadata": {},
   "outputs": [
    {
     "data": {
      "text/plain": [
       "[1, 8, 15, 20, 24, 27, 32, 38, 43, 46, 55, 57, 60, 69, 72, 74, 78, 83, 91, 98]"
      ]
     },
     "execution_count": 16,
     "metadata": {},
     "output_type": "execute_result"
    }
   ],
   "source": [
    "def quicksort(arr):\n",
    "    if len(arr) <= 1:\n",
    "        return arr\n",
    "    pivot = arr[len(arr) // 2]\n",
    "    linkerkant = [x for x in arr if x < pivot]\n",
    "    middelkant = [x for x in arr if x == pivot]    \n",
    "    rechterkant = [x for x in arr if x > pivot]\n",
    "\n",
    "    return quicksort(linkerkant) + middelkant + quicksort(rechterkant)\n",
    "\n",
    "sorted_array3_quicksort = quicksort(array3)\n",
    "sorted_array3_quicksort\n"
   ]
  }
 ],
 "metadata": {
  "kernelspec": {
   "display_name": "dataeng-zZ9Bt289-py3.12",
   "language": "python",
   "name": "python3"
  },
  "language_info": {
   "codemirror_mode": {
    "name": "ipython",
    "version": 3
   },
   "file_extension": ".py",
   "mimetype": "text/x-python",
   "name": "python",
   "nbconvert_exporter": "python",
   "pygments_lexer": "ipython3",
   "version": "3.12.2"
  }
 },
 "nbformat": 4,
 "nbformat_minor": 2
}
