{
 "cells": [
  {
   "cell_type": "code",
   "execution_count": 2,
   "metadata": {},
   "outputs": [],
   "source": [
    "\n",
    "import pandas as pd \n",
    "import pyodbc\n",
    "import sqlite3"
   ]
  },
  {
   "cell_type": "code",
   "execution_count": null,
   "metadata": {},
   "outputs": [],
   "source": [
    "DB = {'servername': '<vul hier de naam van je SSMS-server in>',\n",
    "'database': '<vul hier de naam van je aangemaakte database in>'}\n",
    "';DATABASE=' + DB['database'] + ';Trusted_Connection=yes')\n",
    "export_conn = pyodbc.connect('DRIVER={SQL Server}; SERVER=' + DB['servername'] +\n",
    "                             ';DATABASE=' + DB['database'] + ';Trusted_Connection=yes'\n",
    "export_cursor = export_conn.cursor()\n",
    "export_cursor"
   ]
  }
 ],
 "metadata": {
  "kernelspec": {
   "display_name": "dataeng-I0RnzP9p-py3.12",
   "language": "python",
   "name": "python3"
  },
  "language_info": {
   "codemirror_mode": {
    "name": "ipython",
    "version": 3
   },
   "file_extension": ".py",
   "mimetype": "text/x-python",
   "name": "python",
   "nbconvert_exporter": "python",
   "pygments_lexer": "ipython3",
   "version": "3.12.2"
  }
 },
 "nbformat": 4,
 "nbformat_minor": 2
}
