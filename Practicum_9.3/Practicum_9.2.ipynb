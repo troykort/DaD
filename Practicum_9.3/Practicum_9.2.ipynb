{
 "cells": [
  {
   "cell_type": "code",
   "execution_count": 1,
   "metadata": {
    "dotnet_interactive": {
     "language": "csharp"
    },
    "polyglot_notebook": {
     "kernelName": "csharp"
    }
   },
   "outputs": [
    {
     "name": "stderr",
     "output_type": "stream",
     "text": [
      "C:\\Users\\diego\\AppData\\Local\\Temp\\ipykernel_27484\\2226442294.py:1: DeprecationWarning: \n",
      "Pyarrow will become a required dependency of pandas in the next major release of pandas (pandas 3.0),\n",
      "(to allow more performant data types, such as the Arrow string type, and better interoperability with other libraries)\n",
      "but was not found to be installed on your system.\n",
      "If this would cause problems for you,\n",
      "please provide us feedback at https://github.com/pandas-dev/pandas/issues/54466\n",
      "        \n",
      "  import pandas as pd\n"
     ]
    }
   ],
   "source": [
    "import pandas as pd \n",
    "import pyodbc\n",
    "import warnings\n",
    "warnings.simplefilter('ignore')\n",
    "import sqlite3\n",
    "\n",
    "from sklearn.model_selection import train_test_split\n",
    "from sklearn.tree import DecisionTreeClassifier\n",
    "from sklearn import tree \n",
    "from sklearn import metrics\n",
    "import matplotlib.pyplot as plt\n",
    "from apriori_python import apriori\n",
    "\n",
    "from csv import reader\n",
    "from collections import defaultdict\n",
    "from itertools import chain, combinations\n",
    "from optparse import OptionParser\n",
    "from apriori_python.utils import *"
   ]
  },
  {
   "cell_type": "code",
   "execution_count": 2,
   "metadata": {
    "dotnet_interactive": {
     "language": "csharp"
    },
    "polyglot_notebook": {
     "kernelName": "csharp"
    }
   },
   "outputs": [],
   "source": [
    "DB = {'servername': 'LAPTOP-3S422SS6\\\\SQLEXPRESS', 'database': 'DAD'}\n",
    "\n",
    "conn_str = (\n",
    "    'DRIVER={SQL Server};'\n",
    "    'SERVER=' + DB['servername'] + ';'\n",
    "    'DATABASE=' + DB['database'] + ';'\n",
    "    'Trusted_Connection=yes;'\n",
    ")\n",
    "\n",
    "conn = pyodbc.connect(conn_str)\n",
    "\n",
    "query = \"SELECT * FROM ORDERR\"\n",
    "order = pd.read_sql_query(query, conn)\n",
    "\n",
    "query = \"SELECT * FROM PRODUCT\"\n",
    "product = pd.read_sql_query(query, conn)\n",
    "\n",
    "conn.close()"
   ]
  },
  {
   "cell_type": "code",
   "execution_count": 24,
   "metadata": {
    "dotnet_interactive": {
     "language": "csharp"
    },
    "polyglot_notebook": {
     "kernelName": "csharp"
    }
   },
   "outputs": [],
   "source": [
    "df = pd.merge(order,product,left_on='PRODUCT_number',how='left',right_on='PRODUCT_id')\n",
    "df = df[['ORDER_detail_id','PRODUCT_name']]\n",
    "df_grouped = df.groupby('ORDER_detail_id')['PRODUCT_name'].agg(list).reset_index()\n",
    "df_grouped['PRODUCT_name'] = df_grouped['PRODUCT_name'].apply(lambda x: list(set(x)))\n",
    "itemSetList = df_grouped['PRODUCT_name'].tolist()\n"
   ]
  },
  {
   "cell_type": "code",
   "execution_count": 4,
   "metadata": {
    "dotnet_interactive": {
     "language": "csharp"
    },
    "polyglot_notebook": {
     "kernelName": "csharp"
    }
   },
   "outputs": [],
   "source": [
    "def getUnion(itemSet, length):\n",
    "    return set([i.union(j) for i in itemSet for j in itemSet if len(i.union(j)) == length])\n",
    "\n",
    "def pruning(candidateSet, prevFreqSet, length):\n",
    "    tempCandidateSet = candidateSet.copy()\n",
    "    for item in candidateSet:\n",
    "        subsets = combinations(item, length)\n",
    "        for subset in subsets:\n",
    "            # if the subset is not in previous K-frequent get, then remove the set\n",
    "            if(frozenset(subset) not in prevFreqSet):\n",
    "                tempCandidateSet.remove(item)\n",
    "                break\n",
    "    return tempCandidateSet\n",
    "\n",
    "def getAboveMinSup(itemSet, itemSetList, minSup, globalItemSetWithSup):\n",
    "    freqItemSet = set()\n",
    "    localItemSetWithSup = defaultdict(int)\n",
    "\n",
    "    for item in itemSet:\n",
    "        for itemSet in itemSetList:\n",
    "            if item.issubset(itemSet):\n",
    "                globalItemSetWithSup[item] += 1\n",
    "                localItemSetWithSup[item] += 1\n",
    "\n",
    "    for item, supCount in localItemSetWithSup.items():\n",
    "        support = float(supCount / len(itemSetList))\n",
    "        if(support >= minSup):\n",
    "            freqItemSet.add(item)\n",
    "\n",
    "    return freqItemSet\n",
    "\n",
    "def apriori(itemSetList, minSup, minConf):\n",
    "    C1ItemSet = getItemSetFromList(itemSetList)\n",
    "    # Final result, global frequent itemset\n",
    "    globalFreqItemSet = dict()\n",
    "    # Storing global itemset with support count\n",
    "    globalItemSetWithSup = defaultdict(int)\n",
    "\n",
    "    L1ItemSet = getAboveMinSup(C1ItemSet, itemSetList, minSup, globalItemSetWithSup)\n",
    "    currentLSet = L1ItemSet\n",
    "    k = 2\n",
    "\n",
    "    # Calculating frequent item set\n",
    "    while(currentLSet):\n",
    "        # Storing frequent itemset\n",
    "        globalFreqItemSet[k-1] = currentLSet\n",
    "        # Self-joining Lk\n",
    "        candidateSet = getUnion(currentLSet, k)\n",
    "        # Perform subset testing and remove pruned supersets\n",
    "        candidateSet = pruning(candidateSet, currentLSet, k-1)\n",
    "        # Scanning itemSet for counting support\n",
    "        currentLSet = getAboveMinSup(candidateSet, itemSetList, minSup, globalItemSetWithSup)\n",
    "        k += 1\n",
    "\n",
    "    rules = associationRule(globalFreqItemSet, globalItemSetWithSup, minConf)\n",
    "    rules.sort(key=lambda x: x[2])\n",
    "\n",
    "    return globalFreqItemSet, rules"
   ]
  },
  {
   "cell_type": "code",
   "execution_count": 29,
   "metadata": {
    "dotnet_interactive": {
     "language": "csharp"
    },
    "polyglot_notebook": {
     "kernelName": "csharp"
    }
   },
   "outputs": [],
   "source": [
    "minSup = 0.02  # 2% steun\n",
    "minConf = 0.66 # \n",
    "\n",
    "result = apriori(itemSetList, minSup, minConf)"
   ]
  },
  {
   "cell_type": "code",
   "execution_count": 44,
   "metadata": {},
   "outputs": [
    {
     "data": {
      "text/html": [
       "<div>\n",
       "<style scoped>\n",
       "    .dataframe tbody tr th:only-of-type {\n",
       "        vertical-align: middle;\n",
       "    }\n",
       "\n",
       "    .dataframe tbody tr th {\n",
       "        vertical-align: top;\n",
       "    }\n",
       "\n",
       "    .dataframe thead th {\n",
       "        text-align: right;\n",
       "    }\n",
       "</style>\n",
       "<table border=\"1\" class=\"dataframe\">\n",
       "  <thead>\n",
       "    <tr style=\"text-align: right;\">\n",
       "      <th></th>\n",
       "      <th>1</th>\n",
       "      <th>2</th>\n",
       "      <th>3</th>\n",
       "      <th>4</th>\n",
       "      <th>5</th>\n",
       "    </tr>\n",
       "  </thead>\n",
       "  <tbody>\n",
       "    <tr>\n",
       "      <th>1</th>\n",
       "      <td>{(Mountain Man Deluxe), (TrailChef Kitchen Kit...</td>\n",
       "      <td>{(Firefly Extreme, TrailChef Water Bag), (Husk...</td>\n",
       "      <td>NaN</td>\n",
       "      <td>NaN</td>\n",
       "      <td>NaN</td>\n",
       "    </tr>\n",
       "    <tr>\n",
       "      <th>2</th>\n",
       "      <td>NaN</td>\n",
       "      <td>NaN</td>\n",
       "      <td>NaN</td>\n",
       "      <td>NaN</td>\n",
       "      <td>NaN</td>\n",
       "    </tr>\n",
       "  </tbody>\n",
       "</table>\n",
       "</div>"
      ],
      "text/plain": [
       "                                                   1  \\\n",
       "1  {(Mountain Man Deluxe), (TrailChef Kitchen Kit...   \n",
       "2                                                NaN   \n",
       "\n",
       "                                                   2   3   4   5  \n",
       "1  {(Firefly Extreme, TrailChef Water Bag), (Husk... NaN NaN NaN  \n",
       "2                                                NaN NaN NaN NaN  "
      ]
     },
     "execution_count": 44,
     "metadata": {},
     "output_type": "execute_result"
    }
   ],
   "source": [
    "list = pd.DataFrame(result, columns=[1,2,3,4,5], index=[1,2])\n",
    "list"
   ]
  }
 ],
 "metadata": {
  "kernelspec": {
   "display_name": "dataeng-I0RnzP9p-py3.12",
   "language": "python",
   "name": "python3"
  },
  "language_info": {
   "codemirror_mode": {
    "name": "ipython",
    "version": 3
   },
   "file_extension": ".py",
   "mimetype": "text/x-python",
   "name": "python",
   "nbconvert_exporter": "python",
   "pygments_lexer": "ipython3",
   "version": "3.12.2"
  },
  "polyglot_notebook": {
   "kernelInfo": {
    "defaultKernelName": "csharp",
    "items": [
     {
      "aliases": [],
      "name": "csharp"
     }
    ]
   }
  }
 },
 "nbformat": 4,
 "nbformat_minor": 2
}
