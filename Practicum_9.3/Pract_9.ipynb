{
 "cells": [
  {
   "cell_type": "code",
   "execution_count": 1,
   "metadata": {},
   "outputs": [
    {
     "name": "stderr",
     "output_type": "stream",
     "text": [
      "C:\\Users\\diego\\AppData\\Local\\Temp\\ipykernel_5024\\1139840685.py:1: DeprecationWarning: \n",
      "Pyarrow will become a required dependency of pandas in the next major release of pandas (pandas 3.0),\n",
      "(to allow more performant data types, such as the Arrow string type, and better interoperability with other libraries)\n",
      "but was not found to be installed on your system.\n",
      "If this would cause problems for you,\n",
      "please provide us feedback at https://github.com/pandas-dev/pandas/issues/54466\n",
      "        \n",
      "  import pandas as pd\n"
     ]
    }
   ],
   "source": [
    "import pandas as pd\n",
    "from sklearn.cluster import KMeans\n",
    "import math\n",
    "import matplotlib.pyplot as plt\n",
    "import warnings\n",
    "import numpy as np\n",
    "warnings.simplefilter('ignore')\n",
    "import sqlite3"
   ]
  },
  {
   "cell_type": "code",
   "execution_count": 2,
   "metadata": {},
   "outputs": [],
   "source": [
    "Sales_connection= sqlite3.connect(\"go_sales.sqlite\")\n",
    "Crm_connection= sqlite3.connect(\"go_crm.sqlite\")\n",
    "newQuery = \"SELECT * FROM sales_branch\"\n",
    "sales_branch = pd.read_sql(newQuery,Sales_connection)\n",
    "\n",
    "newQuery = \"SELECT * FROM country\"\n",
    "country_crm = pd.read_sql(newQuery,Crm_connection)"
   ]
  },
  {
   "cell_type": "markdown",
   "metadata": {},
   "source": [
    "hiertussen\n"
   ]
  },
  {
   "cell_type": "code",
   "execution_count": null,
   "metadata": {},
   "outputs": [],
   "source": [
    "kmeans = KMeans(n_clusters = 6, random_state = 42)\n",
    "prediction_results = kmeans.fit_predict(df)\n",
    "prediction_results"
   ]
  },
  {
   "cell_type": "code",
   "execution_count": null,
   "metadata": {},
   "outputs": [],
   "source": [
    "kmeans_centra = pd.DataFrame(kmeans.cluster_centers_)\n",
    "kmeans_centra"
   ]
  },
  {
   "cell_type": "code",
   "execution_count": null,
   "metadata": {},
   "outputs": [],
   "source": [
    "for i in range(len(kmeans_centra.columns)):\n",
    "    kmeans_centra = kmeans_centra.rename(columns = {i : f'{df.columns[i]}'})\n",
    "    \n",
    "kmeans_centra"
   ]
  },
  {
   "cell_type": "code",
   "execution_count": null,
   "metadata": {},
   "outputs": [],
   "source": [
    "for src_index, _ in df.iterrows():\n",
    "    euclidian_distances = dict()\n",
    "    print(f\"Afstand van bronindex {src_index} tot...\")\n",
    "\n",
    "    for centrumindex, _ in kmeans_centra.iterrows():\n",
    "        print(f\"\\tCentrumindex {centrumindex}:\")\n",
    "        euclidian_sum = 0\n",
    "\n",
    "        for column_name in kmeans_centra.columns:\n",
    "            current_difference = df.at[src_index, column_name] - kmeans_centra.at[centrumindex, column_name]\n",
    "            print(f'\\t\\t{df.at[src_index, column_name]} - {kmeans_centra.at[centrumindex, column_name]} = {current_difference}')\n",
    "            euclidian_sum += current_difference ** 2\n",
    "        \n",
    "        print(f'\\tTotale euclidische som: {euclidian_sum}')\n",
    "        euclidian_distance = math.sqrt(euclidian_sum)\n",
    "        print(f'\\tEuclidische afstand: {euclidian_distance}')\n",
    "        euclidian_distances[centrumindex] = euclidian_distance\n",
    "        print('------------------------------------------------')\n",
    "    \n",
    "    print(euclidian_distances)\n",
    "    centrum_number = min(euclidian_distances, key = euclidian_distances.get)\n",
    "    print(centrum_number)\n",
    "    df.at[src_index, 'Centrum'] = centrum_number\n",
    "    print(\"================================================\")\n",
    "\n",
    "df"
   ]
  },
  {
   "cell_type": "code",
   "execution_count": null,
   "metadata": {},
   "outputs": [],
   "source": [
    "plt.scatter(df['Age'], df['Centrum'], color = 'k')\n",
    "plt.show()"
   ]
  },
  {
   "cell_type": "code",
   "execution_count": null,
   "metadata": {},
   "outputs": [],
   "source": [
    "df.groupby('Centrum', as_index = False)['Centrum'].count()"
   ]
  },
  {
   "cell_type": "code",
   "execution_count": null,
   "metadata": {},
   "outputs": [],
   "source": []
  }
 ],
 "metadata": {
  "kernelspec": {
   "display_name": "dataeng-zZ9Bt289-py3.12",
   "language": "python",
   "name": "python3"
  },
  "language_info": {
   "codemirror_mode": {
    "name": "ipython",
    "version": 3
   },
   "file_extension": ".py",
   "mimetype": "text/x-python",
   "name": "python",
   "nbconvert_exporter": "python",
   "pygments_lexer": "ipython3",
   "version": "3.12.2"
  }
 },
 "nbformat": 4,
 "nbformat_minor": 2
}
