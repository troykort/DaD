{
 "cells": [
  {
   "cell_type": "markdown",
   "metadata": {},
   "source": [
    "# Practicumopdrachten Week 2.3 (eerste kans)"
   ]
  },
  {
   "cell_type": "markdown",
   "metadata": {},
   "source": [
    "## Dependencies importeren"
   ]
  },
  {
   "cell_type": "markdown",
   "metadata": {},
   "source": [
    "Kopieer in het codeblok hieronder van het vorige practicum de import-code voor de dependencies die het vaakst worden gebruikt om data in te lezen. Geef er ook de gebruikelijke aliassen aan.<br>\n",
    "Zet eventuele warnings uit."
   ]
  },
  {
   "cell_type": "code",
   "execution_count": 1,
   "metadata": {},
   "outputs": [],
   "source": [
    "\n",
    "import warnings\n",
    "warnings.simplefilter('ignore')\n",
    "import pandas as pd\n",
    "import sqlite3\n"
   ]
  },
  {
   "cell_type": "markdown",
   "metadata": {},
   "source": [
    "Zet het bestand go_sales.sqlite in hetzelfde mapje als dit notebook."
   ]
  },
  {
   "cell_type": "markdown",
   "metadata": {},
   "source": [
    "## Databasetabellen inlezen"
   ]
  },
  {
   "cell_type": "markdown",
   "metadata": {},
   "source": [
    "Kopieer in het codeblok hieronder van het vorige practicum de code om een connectie met het bestand go_sales.sqlite te maken."
   ]
  },
  {
   "cell_type": "code",
   "execution_count": 2,
   "metadata": {},
   "outputs": [
    {
     "data": {
      "text/plain": [
       "<sqlite3.Connection at 0x24f79dcb010>"
      ]
     },
     "execution_count": 2,
     "metadata": {},
     "output_type": "execute_result"
    }
   ],
   "source": [
    "Sales_connection= sqlite3.connect(\"go_sales.sqlite\")\n",
    "Sales_connection"
   ]
  },
  {
   "cell_type": "markdown",
   "metadata": {},
   "source": [
    "Lees van de ingelezen go_sales-database te volgende tabellen in met behulp van \"SELECT * FROM *tabel*\".\n",
    "- product\n",
    "- product_type\n",
    "- product_line\n",
    "- sales_staff\n",
    "- sales_branch\n",
    "- retailer_site\n",
    "- country\n",
    "- order_header\n",
    "- order_details\n",
    "- target\n",
    "- returned_item\n",
    "- return_reason"
   ]
  },
  {
   "cell_type": "code",
   "execution_count": 3,
   "metadata": {},
   "outputs": [],
   "source": [
    "\n",
    "\n",
    "newQuery = \"SELECT * FROM product\"\n",
    "product = pd.read_sql(newQuery,Sales_connection)\n",
    "newQuery = \"SELECT * FROM product_type\"\n",
    "product_type = pd.read_sql(newQuery,Sales_connection)\n",
    "newQuery = \"SELECT * FROM product_line\"\n",
    "product_line = pd.read_sql(newQuery,Sales_connection)\n",
    "newQuery = \"SELECT * FROM sales_staff\"\n",
    "sales_staff = pd.read_sql(newQuery,Sales_connection)\n",
    "newQuery = \"SELECT * FROM sales_branch\"\n",
    "sales_branch = pd.read_sql(newQuery,Sales_connection)\n",
    "newQuery = \"SELECT * FROM retailer_site\"\n",
    "retailer_site = pd.read_sql(newQuery,Sales_connection)\n",
    "newQuery = \"SELECT * FROM country\"\n",
    "country = pd.read_sql(newQuery,Sales_connection)\n",
    "newQuery = \"SELECT * FROM order_header\"\n",
    "order_header = pd.read_sql(newQuery,Sales_connection)\n",
    "newQuery = \"SELECT * FROM order_details\"\n",
    "order_details = pd.read_sql(newQuery,Sales_connection)\n",
    "newQuery = \"SELECT * FROM SALES_TARGETData\"\n",
    "target = pd.read_sql(newQuery,Sales_connection)\n",
    "newQuery = \"SELECT * FROM returned_item\"\n",
    "returned_item = pd.read_sql(newQuery,Sales_connection)\n",
    "newQuery = \"SELECT * FROM return_reason\"\n",
    "return_reason = pd.read_sql(newQuery,Sales_connection)"
   ]
  },
  {
   "cell_type": "markdown",
   "metadata": {},
   "source": [
    "Let op! Voor alle onderstaande opdrachten mag je <u>alleen Python</u> gebruiken, <u>geen SQL!</u>"
   ]
  },
  {
   "cell_type": "markdown",
   "metadata": {},
   "source": [
    "## Selecties op één tabel zonder functies"
   ]
  },
  {
   "cell_type": "markdown",
   "metadata": {},
   "source": [
    "Geef een overzicht met daarin de producten en hun productiekosten waarvan de productiekosten lager dan 100 dollar en hoger dan 50 dollar ligt. (2 kolommen, 23 rijen)"
   ]
  },
  {
   "cell_type": "code",
   "execution_count": 4,
   "metadata": {},
   "outputs": [
    {
     "data": {
      "text/html": [
       "<div>\n",
       "<style scoped>\n",
       "    .dataframe tbody tr th:only-of-type {\n",
       "        vertical-align: middle;\n",
       "    }\n",
       "\n",
       "    .dataframe tbody tr th {\n",
       "        vertical-align: top;\n",
       "    }\n",
       "\n",
       "    .dataframe thead th {\n",
       "        text-align: right;\n",
       "    }\n",
       "</style>\n",
       "<table border=\"1\" class=\"dataframe\">\n",
       "  <thead>\n",
       "    <tr style=\"text-align: right;\">\n",
       "      <th></th>\n",
       "      <th>PRODUCT_NAME</th>\n",
       "      <th>PRODUCTION_COST</th>\n",
       "    </tr>\n",
       "  </thead>\n",
       "  <tbody>\n",
       "    <tr>\n",
       "      <th>13</th>\n",
       "      <td>Blue Steel Putter</td>\n",
       "      <td>60.00</td>\n",
       "    </tr>\n",
       "    <tr>\n",
       "      <th>14</th>\n",
       "      <td>Blue Steel Max Putter</td>\n",
       "      <td>81.80</td>\n",
       "    </tr>\n",
       "    <tr>\n",
       "      <th>17</th>\n",
       "      <td>Course Pro Golf Bag</td>\n",
       "      <td>80.00</td>\n",
       "    </tr>\n",
       "    <tr>\n",
       "      <th>24</th>\n",
       "      <td>Hibernator Lite</td>\n",
       "      <td>60.00</td>\n",
       "    </tr>\n",
       "    <tr>\n",
       "      <th>25</th>\n",
       "      <td>Hibernator</td>\n",
       "      <td>86.00</td>\n",
       "    </tr>\n",
       "    <tr>\n",
       "      <th>28</th>\n",
       "      <td>Hibernator Self - Inflating Mat</td>\n",
       "      <td>78.55</td>\n",
       "    </tr>\n",
       "    <tr>\n",
       "      <th>31</th>\n",
       "      <td>Hibernator Camp Cot</td>\n",
       "      <td>65.33</td>\n",
       "    </tr>\n",
       "    <tr>\n",
       "      <th>32</th>\n",
       "      <td>Canyon Mule Climber Backpack</td>\n",
       "      <td>62.50</td>\n",
       "    </tr>\n",
       "    <tr>\n",
       "      <th>56</th>\n",
       "      <td>Granite Climbing Helmet</td>\n",
       "      <td>52.86</td>\n",
       "    </tr>\n",
       "    <tr>\n",
       "      <th>58</th>\n",
       "      <td>Husky Harness Extreme</td>\n",
       "      <td>55.00</td>\n",
       "    </tr>\n",
       "    <tr>\n",
       "      <th>69</th>\n",
       "      <td>Granite Hammer</td>\n",
       "      <td>57.13</td>\n",
       "    </tr>\n",
       "    <tr>\n",
       "      <th>71</th>\n",
       "      <td>TrailChef Deluxe Cook Set</td>\n",
       "      <td>85.11</td>\n",
       "    </tr>\n",
       "    <tr>\n",
       "      <th>81</th>\n",
       "      <td>Polar Ice</td>\n",
       "      <td>73.33</td>\n",
       "    </tr>\n",
       "    <tr>\n",
       "      <th>83</th>\n",
       "      <td>Polar Sports</td>\n",
       "      <td>80.00</td>\n",
       "    </tr>\n",
       "    <tr>\n",
       "      <th>84</th>\n",
       "      <td>Polar Wave</td>\n",
       "      <td>60.00</td>\n",
       "    </tr>\n",
       "    <tr>\n",
       "      <th>85</th>\n",
       "      <td>Polar Extreme</td>\n",
       "      <td>72.50</td>\n",
       "    </tr>\n",
       "    <tr>\n",
       "      <th>88</th>\n",
       "      <td>Edge Extreme</td>\n",
       "      <td>80.00</td>\n",
       "    </tr>\n",
       "    <tr>\n",
       "      <th>91</th>\n",
       "      <td>Seeker 35</td>\n",
       "      <td>79.19</td>\n",
       "    </tr>\n",
       "    <tr>\n",
       "      <th>92</th>\n",
       "      <td>Seeker 50</td>\n",
       "      <td>92.58</td>\n",
       "    </tr>\n",
       "    <tr>\n",
       "      <th>93</th>\n",
       "      <td>TrailChef Double Flame</td>\n",
       "      <td>75.00</td>\n",
       "    </tr>\n",
       "    <tr>\n",
       "      <th>94</th>\n",
       "      <td>Seeker Extreme</td>\n",
       "      <td>94.12</td>\n",
       "    </tr>\n",
       "    <tr>\n",
       "      <th>97</th>\n",
       "      <td>Glacier Deluxe</td>\n",
       "      <td>56.25</td>\n",
       "    </tr>\n",
       "    <tr>\n",
       "      <th>98</th>\n",
       "      <td>Glacier GPS</td>\n",
       "      <td>78.55</td>\n",
       "    </tr>\n",
       "  </tbody>\n",
       "</table>\n",
       "</div>"
      ],
      "text/plain": [
       "                       PRODUCT_NAME  PRODUCTION_COST\n",
       "13                Blue Steel Putter            60.00\n",
       "14            Blue Steel Max Putter            81.80\n",
       "17              Course Pro Golf Bag            80.00\n",
       "24                  Hibernator Lite            60.00\n",
       "25                       Hibernator            86.00\n",
       "28  Hibernator Self - Inflating Mat            78.55\n",
       "31              Hibernator Camp Cot            65.33\n",
       "32     Canyon Mule Climber Backpack            62.50\n",
       "56          Granite Climbing Helmet            52.86\n",
       "58            Husky Harness Extreme            55.00\n",
       "69                   Granite Hammer            57.13\n",
       "71        TrailChef Deluxe Cook Set            85.11\n",
       "81                        Polar Ice            73.33\n",
       "83                     Polar Sports            80.00\n",
       "84                       Polar Wave            60.00\n",
       "85                    Polar Extreme            72.50\n",
       "88                     Edge Extreme            80.00\n",
       "91                        Seeker 35            79.19\n",
       "92                        Seeker 50            92.58\n",
       "93           TrailChef Double Flame            75.00\n",
       "94                   Seeker Extreme            94.12\n",
       "97                   Glacier Deluxe            56.25\n",
       "98                      Glacier GPS            78.55"
      ]
     },
     "execution_count": 4,
     "metadata": {},
     "output_type": "execute_result"
    }
   ],
   "source": [
    "product['PRODUCTION_COST'] = pd.to_numeric(product['PRODUCTION_COST'], errors='coerce')\n",
    "\n",
    "selected_products = product[(product['PRODUCTION_COST'] > 50.00) & (product['PRODUCTION_COST'] < 100.00)]\n",
    "\n",
    "selected_products[['PRODUCT_NAME','PRODUCTION_COST']]\n",
    "\n"
   ]
  },
  {
   "cell_type": "code",
   "execution_count": null,
   "metadata": {},
   "outputs": [],
   "source": []
  },
  {
   "cell_type": "markdown",
   "metadata": {},
   "source": [
    "Geef een overzicht met daarin de producten en hun marge waarvan de marge lager dan 20 % of hoger dan 60 % ligt. (2 kolommen, 7 rijen) "
   ]
  },
  {
   "cell_type": "code",
   "execution_count": 5,
   "metadata": {},
   "outputs": [
    {
     "data": {
      "text/html": [
       "<div>\n",
       "<style scoped>\n",
       "    .dataframe tbody tr th:only-of-type {\n",
       "        vertical-align: middle;\n",
       "    }\n",
       "\n",
       "    .dataframe tbody tr th {\n",
       "        vertical-align: top;\n",
       "    }\n",
       "\n",
       "    .dataframe thead th {\n",
       "        text-align: right;\n",
       "    }\n",
       "</style>\n",
       "<table border=\"1\" class=\"dataframe\">\n",
       "  <thead>\n",
       "    <tr style=\"text-align: right;\">\n",
       "      <th></th>\n",
       "      <th>PRODUCT_NAME</th>\n",
       "      <th>MARGIN</th>\n",
       "    </tr>\n",
       "  </thead>\n",
       "  <tbody>\n",
       "    <tr>\n",
       "      <th>29</th>\n",
       "      <td>Hibernator Pad</td>\n",
       "      <td>0.17</td>\n",
       "    </tr>\n",
       "    <tr>\n",
       "      <th>32</th>\n",
       "      <td>Canyon Mule Climber Backpack</td>\n",
       "      <td>0.17</td>\n",
       "    </tr>\n",
       "    <tr>\n",
       "      <th>100</th>\n",
       "      <td>BugShield Natural</td>\n",
       "      <td>0.67</td>\n",
       "    </tr>\n",
       "    <tr>\n",
       "      <th>101</th>\n",
       "      <td>BugShield Spray</td>\n",
       "      <td>0.67</td>\n",
       "    </tr>\n",
       "    <tr>\n",
       "      <th>102</th>\n",
       "      <td>BugShield Lotion Lite</td>\n",
       "      <td>0.70</td>\n",
       "    </tr>\n",
       "    <tr>\n",
       "      <th>103</th>\n",
       "      <td>BugShield Lotion</td>\n",
       "      <td>0.63</td>\n",
       "    </tr>\n",
       "    <tr>\n",
       "      <th>105</th>\n",
       "      <td>BugShield Extreme</td>\n",
       "      <td>0.63</td>\n",
       "    </tr>\n",
       "  </tbody>\n",
       "</table>\n",
       "</div>"
      ],
      "text/plain": [
       "                     PRODUCT_NAME  MARGIN\n",
       "29                 Hibernator Pad    0.17\n",
       "32   Canyon Mule Climber Backpack    0.17\n",
       "100             BugShield Natural    0.67\n",
       "101               BugShield Spray    0.67\n",
       "102         BugShield Lotion Lite    0.70\n",
       "103              BugShield Lotion    0.63\n",
       "105             BugShield Extreme    0.63"
      ]
     },
     "execution_count": 5,
     "metadata": {},
     "output_type": "execute_result"
    }
   ],
   "source": [
    "product['MARGIN'] = pd.to_numeric(product['MARGIN'], errors='coerce')\n",
    "\n",
    "selected_products = product[(product['MARGIN'] < .20) | (product['MARGIN'] > .60)]\n",
    "\n",
    "selected_products[['PRODUCT_NAME','MARGIN']]"
   ]
  },
  {
   "cell_type": "markdown",
   "metadata": {},
   "source": [
    "Geef een overzicht met daarin de landen waar met francs wordt betaald. Sorteer de uitkomst op land.  (1 kolom, 3 rijen)"
   ]
  },
  {
   "cell_type": "code",
   "execution_count": 6,
   "metadata": {},
   "outputs": [
    {
     "data": {
      "text/plain": [
       "0          France\n",
       "7         Belgium\n",
       "19    Switzerland\n",
       "Name: COUNTRY, dtype: object"
      ]
     },
     "execution_count": 6,
     "metadata": {},
     "output_type": "execute_result"
    }
   ],
   "source": [
    "selected_country = country[(country['CURRENCY_NAME'] == 'francs') ]\n",
    "selected_country.groupby('COUNTRY')\n",
    "\n",
    "selected_country['COUNTRY']"
   ]
  },
  {
   "cell_type": "markdown",
   "metadata": {},
   "source": [
    " "
   ]
  },
  {
   "cell_type": "code",
   "execution_count": 7,
   "metadata": {},
   "outputs": [
    {
     "data": {
      "text/plain": [
       "array(['10-12-2019', '18-12-2019', '27-12-2019', '13-1-2020',\n",
       "       '15-12-2019', '26-10-2016', '15-2-2011'], dtype=object)"
      ]
     },
     "execution_count": 7,
     "metadata": {},
     "output_type": "execute_result"
    }
   ],
   "source": [
    "high_margin_products = product[product['MARGIN'] > .50]\n",
    "unique_intro_dates = high_margin_products['INTRODUCTION_DATE'].unique()\n",
    "unique_intro_dates\n"
   ]
  },
  {
   "cell_type": "markdown",
   "metadata": {},
   "source": [
    "Geef een overzicht met daarin het eerste adres en de stad van verkoopafdelingen waarvan zowel het tweede adres als de regio bekend is (2 kolommen, 28 rijen)"
   ]
  },
  {
   "cell_type": "code",
   "execution_count": 8,
   "metadata": {},
   "outputs": [
    {
     "data": {
      "text/html": [
       "<div>\n",
       "<style scoped>\n",
       "    .dataframe tbody tr th:only-of-type {\n",
       "        vertical-align: middle;\n",
       "    }\n",
       "\n",
       "    .dataframe tbody tr th {\n",
       "        vertical-align: top;\n",
       "    }\n",
       "\n",
       "    .dataframe thead th {\n",
       "        text-align: right;\n",
       "    }\n",
       "</style>\n",
       "<table border=\"1\" class=\"dataframe\">\n",
       "  <thead>\n",
       "    <tr style=\"text-align: right;\">\n",
       "      <th></th>\n",
       "      <th>ADDRESS1</th>\n",
       "      <th>CITY</th>\n",
       "    </tr>\n",
       "  </thead>\n",
       "  <tbody>\n",
       "    <tr>\n",
       "      <th>2</th>\n",
       "      <td>4830 Princeton</td>\n",
       "      <td>Albuquerque</td>\n",
       "    </tr>\n",
       "    <tr>\n",
       "      <th>5</th>\n",
       "      <td>1700 George Street</td>\n",
       "      <td>San Francisco</td>\n",
       "    </tr>\n",
       "    <tr>\n",
       "      <th>13</th>\n",
       "      <td>1488 Orleans Road</td>\n",
       "      <td>Charleston</td>\n",
       "    </tr>\n",
       "    <tr>\n",
       "      <th>28</th>\n",
       "      <td>2103 Ashbury Street</td>\n",
       "      <td>Los Angeles</td>\n",
       "    </tr>\n",
       "    <tr>\n",
       "      <th>29</th>\n",
       "      <td>333 Ustaff Way</td>\n",
       "      <td>San Diego</td>\n",
       "    </tr>\n",
       "    <tr>\n",
       "      <th>...</th>\n",
       "      <td>...</td>\n",
       "      <td>...</td>\n",
       "    </tr>\n",
       "    <tr>\n",
       "      <th>367</th>\n",
       "      <td>10423 Kenwood Road</td>\n",
       "      <td>Cincinnati</td>\n",
       "    </tr>\n",
       "    <tr>\n",
       "      <th>370</th>\n",
       "      <td>332 South Main Street</td>\n",
       "      <td>Hanover</td>\n",
       "    </tr>\n",
       "    <tr>\n",
       "      <th>371</th>\n",
       "      <td>795 South Jefferson</td>\n",
       "      <td>Springfield</td>\n",
       "    </tr>\n",
       "    <tr>\n",
       "      <th>376</th>\n",
       "      <td>702 North Meridian</td>\n",
       "      <td>Oklahoma City</td>\n",
       "    </tr>\n",
       "    <tr>\n",
       "      <th>377</th>\n",
       "      <td>1210 Somerville Avenue</td>\n",
       "      <td>Chattanooga</td>\n",
       "    </tr>\n",
       "  </tbody>\n",
       "</table>\n",
       "<p>78 rows × 2 columns</p>\n",
       "</div>"
      ],
      "text/plain": [
       "                   ADDRESS1           CITY\n",
       "2            4830 Princeton    Albuquerque\n",
       "5        1700 George Street  San Francisco\n",
       "13        1488 Orleans Road     Charleston\n",
       "28      2103 Ashbury Street    Los Angeles\n",
       "29           333 Ustaff Way      San Diego\n",
       "..                      ...            ...\n",
       "367      10423 Kenwood Road     Cincinnati\n",
       "370   332 South Main Street        Hanover\n",
       "371     795 South Jefferson    Springfield\n",
       "376      702 North Meridian  Oklahoma City\n",
       "377  1210 Somerville Avenue    Chattanooga\n",
       "\n",
       "[78 rows x 2 columns]"
      ]
     },
     "execution_count": 8,
     "metadata": {},
     "output_type": "execute_result"
    }
   ],
   "source": [
    "selected_verkoopAfdeling= retailer_site[(retailer_site['ADDRESS2'].notnull())&(retailer_site['REGION'].notnull())]\n",
    "selected_verkoopAfdeling[['ADDRESS1', 'CITY']]\n"
   ]
  },
  {
   "cell_type": "markdown",
   "metadata": {},
   "source": [
    "Geef een overzicht met daarin de landen waar met dollars (dollars of new dollar) wordt betaald. Sorteer de uitkomst op land. (1 kolom, 4 rijen) "
   ]
  },
  {
   "cell_type": "code",
   "execution_count": 9,
   "metadata": {},
   "outputs": [
    {
     "data": {
      "text/plain": [
       "3            Taiwan\n",
       "6         Australia\n",
       "14    United States\n",
       "15           Canada\n",
       "Name: COUNTRY, dtype: object"
      ]
     },
     "execution_count": 9,
     "metadata": {},
     "output_type": "execute_result"
    }
   ],
   "source": [
    "selected_Landen= country[(country['CURRENCY_NAME']=='new dollar')|(country['CURRENCY_NAME']=='dollars')]\n",
    "selected_Landen['COUNTRY']\n"
   ]
  },
  {
   "cell_type": "markdown",
   "metadata": {},
   "source": [
    "Geef een overzicht met daarin beide adressen en de stad van vestigingen van klanten waarvan de postcode begint met een ‘D’ (van duitsland). Filter op vestigingen die een tweede adres hebben. (3 kolommen, 2 rijen) "
   ]
  },
  {
   "cell_type": "code",
   "execution_count": 10,
   "metadata": {},
   "outputs": [
    {
     "data": {
      "text/html": [
       "<div>\n",
       "<style scoped>\n",
       "    .dataframe tbody tr th:only-of-type {\n",
       "        vertical-align: middle;\n",
       "    }\n",
       "\n",
       "    .dataframe tbody tr th {\n",
       "        vertical-align: top;\n",
       "    }\n",
       "\n",
       "    .dataframe thead th {\n",
       "        text-align: right;\n",
       "    }\n",
       "</style>\n",
       "<table border=\"1\" class=\"dataframe\">\n",
       "  <thead>\n",
       "    <tr style=\"text-align: right;\">\n",
       "      <th></th>\n",
       "      <th>ADDRESS1</th>\n",
       "      <th>ADDRESS2</th>\n",
       "      <th>CITY</th>\n",
       "    </tr>\n",
       "  </thead>\n",
       "  <tbody>\n",
       "    <tr>\n",
       "      <th>205</th>\n",
       "      <td>Röntgenstraße 90</td>\n",
       "      <td>3. Tür rechts</td>\n",
       "      <td>Frankfurt</td>\n",
       "    </tr>\n",
       "    <tr>\n",
       "      <th>351</th>\n",
       "      <td>Grubesallee 141</td>\n",
       "      <td>4. Stock</td>\n",
       "      <td>Hamburg</td>\n",
       "    </tr>\n",
       "  </tbody>\n",
       "</table>\n",
       "</div>"
      ],
      "text/plain": [
       "             ADDRESS1       ADDRESS2       CITY\n",
       "205  Röntgenstraße 90  3. Tür rechts  Frankfurt\n",
       "351   Grubesallee 141       4. Stock    Hamburg"
      ]
     },
     "execution_count": 10,
     "metadata": {},
     "output_type": "execute_result"
    }
   ],
   "source": [
    "selected_vestigingen = retailer_site[(retailer_site['POSTAL_ZONE'].str.startswith('D')) & (retailer_site['ADDRESS2'].notnull())]\n",
    "selected_vestigingen[['ADDRESS1', 'ADDRESS2', 'CITY']]"
   ]
  },
  {
   "cell_type": "markdown",
   "metadata": {},
   "source": [
    "## Selecties op één tabel met functies"
   ]
  },
  {
   "cell_type": "markdown",
   "metadata": {},
   "source": [
    "Geef het totaal aantal producten dat is teruggebracht (1 waarde) "
   ]
  },
  {
   "cell_type": "code",
   "execution_count": 11,
   "metadata": {},
   "outputs": [
    {
     "data": {
      "text/plain": [
       "706"
      ]
     },
     "execution_count": 11,
     "metadata": {},
     "output_type": "execute_result"
    }
   ],
   "source": [
    "total_returned_products = returned_item.shape[0]\n",
    "total_returned_products"
   ]
  },
  {
   "cell_type": "markdown",
   "metadata": {},
   "source": [
    "Geef het aantal regio’s waarin verkoopafdelingen gevestigd zijn. (1 waarde)"
   ]
  },
  {
   "cell_type": "code",
   "execution_count": 12,
   "metadata": {},
   "outputs": [
    {
     "data": {
      "text/plain": [
       "15"
      ]
     },
     "execution_count": 12,
     "metadata": {},
     "output_type": "execute_result"
    }
   ],
   "source": [
    "aantal_regios = sales_branch['REGION'].nunique()\n",
    "aantal_regios"
   ]
  },
  {
   "cell_type": "code",
   "execution_count": null,
   "metadata": {},
   "outputs": [],
   "source": []
  },
  {
   "cell_type": "markdown",
   "metadata": {},
   "source": [
    "Maak 3 variabelen:\n",
    "- Een met de laagste\n",
    "- Een met de hoogste\n",
    "- Een met de gemiddelde (afgerond op 2 decimalen)\n",
    "\n",
    "marge van producten (3 kolommen, 1 rij) "
   ]
  },
  {
   "cell_type": "code",
   "execution_count": 13,
   "metadata": {},
   "outputs": [
    {
     "data": {
      "text/html": [
       "<div>\n",
       "<style scoped>\n",
       "    .dataframe tbody tr th:only-of-type {\n",
       "        vertical-align: middle;\n",
       "    }\n",
       "\n",
       "    .dataframe tbody tr th {\n",
       "        vertical-align: top;\n",
       "    }\n",
       "\n",
       "    .dataframe thead th {\n",
       "        text-align: right;\n",
       "    }\n",
       "</style>\n",
       "<table border=\"1\" class=\"dataframe\">\n",
       "  <thead>\n",
       "    <tr style=\"text-align: right;\">\n",
       "      <th></th>\n",
       "      <th>Laagste marge</th>\n",
       "      <th>Hoogste marge</th>\n",
       "      <th>Gemiddelde marge</th>\n",
       "    </tr>\n",
       "  </thead>\n",
       "  <tbody>\n",
       "    <tr>\n",
       "      <th>0</th>\n",
       "      <td>0.17</td>\n",
       "      <td>0.7</td>\n",
       "      <td>0.4</td>\n",
       "    </tr>\n",
       "  </tbody>\n",
       "</table>\n",
       "</div>"
      ],
      "text/plain": [
       "   Laagste marge  Hoogste marge  Gemiddelde marge\n",
       "0           0.17            0.7               0.4"
      ]
     },
     "execution_count": 13,
     "metadata": {},
     "output_type": "execute_result"
    }
   ],
   "source": [
    "import numpy as np\n",
    "laagste_marge = product['MARGIN'].min()\n",
    "\n",
    "hoogste_marge = product['MARGIN'].max()\n",
    "\n",
    "gemiddelde_marge = round(product['MARGIN'].mean(), 2)\n",
    "data = {\n",
    "    'Laagste marge': [laagste_marge],\n",
    "    'Hoogste marge': [hoogste_marge],\n",
    "    'Gemiddelde marge': [gemiddelde_marge]\n",
    "}\n",
    "\n",
    "marge_overzicht = pd.DataFrame(data)\n",
    "marge_overzicht\n"
   ]
  },
  {
   "cell_type": "markdown",
   "metadata": {},
   "source": [
    "Geef het aantal vestigingen van klanten waarvan het 2e adres niet bekend is (1 waarde)"
   ]
  },
  {
   "cell_type": "code",
   "execution_count": 14,
   "metadata": {},
   "outputs": [
    {
     "data": {
      "text/html": [
       "<div>\n",
       "<style scoped>\n",
       "    .dataframe tbody tr th:only-of-type {\n",
       "        vertical-align: middle;\n",
       "    }\n",
       "\n",
       "    .dataframe tbody tr th {\n",
       "        vertical-align: top;\n",
       "    }\n",
       "\n",
       "    .dataframe thead th {\n",
       "        text-align: right;\n",
       "    }\n",
       "</style>\n",
       "<table border=\"1\" class=\"dataframe\">\n",
       "  <thead>\n",
       "    <tr style=\"text-align: right;\">\n",
       "      <th></th>\n",
       "      <th>RETAILER_SITE_CODE</th>\n",
       "      <th>RETAILER_CODE</th>\n",
       "      <th>ADDRESS1</th>\n",
       "      <th>ADDRESS2</th>\n",
       "      <th>CITY</th>\n",
       "      <th>REGION</th>\n",
       "      <th>POSTAL_ZONE</th>\n",
       "      <th>COUNTRY_CODE</th>\n",
       "      <th>ACTIVE_INDICATOR</th>\n",
       "      <th>TRIAL888</th>\n",
       "    </tr>\n",
       "  </thead>\n",
       "  <tbody>\n",
       "    <tr>\n",
       "      <th>0</th>\n",
       "      <td>1</td>\n",
       "      <td>89</td>\n",
       "      <td>1117 Franklin Blvd</td>\n",
       "      <td>None</td>\n",
       "      <td>Winnipeg</td>\n",
       "      <td>Manitoba</td>\n",
       "      <td>R2C 0M5</td>\n",
       "      <td>4</td>\n",
       "      <td>1</td>\n",
       "      <td>T</td>\n",
       "    </tr>\n",
       "    <tr>\n",
       "      <th>1</th>\n",
       "      <td>10</td>\n",
       "      <td>92</td>\n",
       "      <td>Suite 1500, 802 Docklands Street</td>\n",
       "      <td>None</td>\n",
       "      <td>Vancouver</td>\n",
       "      <td>British Columbia</td>\n",
       "      <td>V6E 3Z3</td>\n",
       "      <td>4</td>\n",
       "      <td>1</td>\n",
       "      <td>T</td>\n",
       "    </tr>\n",
       "    <tr>\n",
       "      <th>2</th>\n",
       "      <td>100</td>\n",
       "      <td>95</td>\n",
       "      <td>4830 Princeton</td>\n",
       "      <td>Unit 2</td>\n",
       "      <td>Albuquerque</td>\n",
       "      <td>New Mexico</td>\n",
       "      <td>87186</td>\n",
       "      <td>3</td>\n",
       "      <td>1</td>\n",
       "      <td>T</td>\n",
       "    </tr>\n",
       "    <tr>\n",
       "      <th>3</th>\n",
       "      <td>101</td>\n",
       "      <td>95</td>\n",
       "      <td>6630 Burnet Road</td>\n",
       "      <td>None</td>\n",
       "      <td>Austin</td>\n",
       "      <td>Texas</td>\n",
       "      <td>78769</td>\n",
       "      <td>3</td>\n",
       "      <td>1</td>\n",
       "      <td>T</td>\n",
       "    </tr>\n",
       "    <tr>\n",
       "      <th>4</th>\n",
       "      <td>102</td>\n",
       "      <td>108</td>\n",
       "      <td>2189 Louisville Road</td>\n",
       "      <td>None</td>\n",
       "      <td>Independence</td>\n",
       "      <td>Kentucky</td>\n",
       "      <td>41051</td>\n",
       "      <td>3</td>\n",
       "      <td>0</td>\n",
       "      <td>T</td>\n",
       "    </tr>\n",
       "    <tr>\n",
       "      <th>...</th>\n",
       "      <td>...</td>\n",
       "      <td>...</td>\n",
       "      <td>...</td>\n",
       "      <td>...</td>\n",
       "      <td>...</td>\n",
       "      <td>...</td>\n",
       "      <td>...</td>\n",
       "      <td>...</td>\n",
       "      <td>...</td>\n",
       "      <td>...</td>\n",
       "    </tr>\n",
       "    <tr>\n",
       "      <th>386</th>\n",
       "      <td>95</td>\n",
       "      <td>106</td>\n",
       "      <td>932 Ohmey Avenue</td>\n",
       "      <td>None</td>\n",
       "      <td>Los Angeles</td>\n",
       "      <td>California</td>\n",
       "      <td>90211</td>\n",
       "      <td>3</td>\n",
       "      <td>1</td>\n",
       "      <td>T</td>\n",
       "    </tr>\n",
       "    <tr>\n",
       "      <th>387</th>\n",
       "      <td>96</td>\n",
       "      <td>106</td>\n",
       "      <td>438 Kelson Road</td>\n",
       "      <td>None</td>\n",
       "      <td>Los Angeles</td>\n",
       "      <td>California</td>\n",
       "      <td>90203</td>\n",
       "      <td>3</td>\n",
       "      <td>1</td>\n",
       "      <td>T</td>\n",
       "    </tr>\n",
       "    <tr>\n",
       "      <th>388</th>\n",
       "      <td>97</td>\n",
       "      <td>106</td>\n",
       "      <td>3410 Selson Avenue</td>\n",
       "      <td>None</td>\n",
       "      <td>San Diego</td>\n",
       "      <td>California</td>\n",
       "      <td>92132</td>\n",
       "      <td>3</td>\n",
       "      <td>1</td>\n",
       "      <td>T</td>\n",
       "    </tr>\n",
       "    <tr>\n",
       "      <th>389</th>\n",
       "      <td>98</td>\n",
       "      <td>106</td>\n",
       "      <td>73 Stanley Avenue</td>\n",
       "      <td>None</td>\n",
       "      <td>San Francisco</td>\n",
       "      <td>California</td>\n",
       "      <td>94135</td>\n",
       "      <td>3</td>\n",
       "      <td>1</td>\n",
       "      <td>T</td>\n",
       "    </tr>\n",
       "    <tr>\n",
       "      <th>390</th>\n",
       "      <td>99</td>\n",
       "      <td>106</td>\n",
       "      <td>37 Raleigh Avenue</td>\n",
       "      <td>None</td>\n",
       "      <td>San Francisco</td>\n",
       "      <td>California</td>\n",
       "      <td>94129</td>\n",
       "      <td>3</td>\n",
       "      <td>1</td>\n",
       "      <td>T</td>\n",
       "    </tr>\n",
       "  </tbody>\n",
       "</table>\n",
       "<p>391 rows × 10 columns</p>\n",
       "</div>"
      ],
      "text/plain": [
       "    RETAILER_SITE_CODE RETAILER_CODE                          ADDRESS1  \\\n",
       "0                    1            89                1117 Franklin Blvd   \n",
       "1                   10            92  Suite 1500, 802 Docklands Street   \n",
       "2                  100            95                    4830 Princeton   \n",
       "3                  101            95                  6630 Burnet Road   \n",
       "4                  102           108              2189 Louisville Road   \n",
       "..                 ...           ...                               ...   \n",
       "386                 95           106                  932 Ohmey Avenue   \n",
       "387                 96           106                   438 Kelson Road   \n",
       "388                 97           106                3410 Selson Avenue   \n",
       "389                 98           106                 73 Stanley Avenue   \n",
       "390                 99           106                 37 Raleigh Avenue   \n",
       "\n",
       "    ADDRESS2           CITY            REGION POSTAL_ZONE COUNTRY_CODE  \\\n",
       "0       None       Winnipeg          Manitoba     R2C 0M5            4   \n",
       "1       None      Vancouver  British Columbia     V6E 3Z3            4   \n",
       "2     Unit 2    Albuquerque        New Mexico       87186            3   \n",
       "3       None         Austin             Texas       78769            3   \n",
       "4       None   Independence          Kentucky       41051            3   \n",
       "..       ...            ...               ...         ...          ...   \n",
       "386     None    Los Angeles        California       90211            3   \n",
       "387     None    Los Angeles        California       90203            3   \n",
       "388     None      San Diego        California       92132            3   \n",
       "389     None  San Francisco        California       94135            3   \n",
       "390     None  San Francisco        California       94129            3   \n",
       "\n",
       "    ACTIVE_INDICATOR TRIAL888  \n",
       "0                  1        T  \n",
       "1                  1        T  \n",
       "2                  1        T  \n",
       "3                  1        T  \n",
       "4                  0        T  \n",
       "..               ...      ...  \n",
       "386                1        T  \n",
       "387                1        T  \n",
       "388                1        T  \n",
       "389                1        T  \n",
       "390                1        T  \n",
       "\n",
       "[391 rows x 10 columns]"
      ]
     },
     "execution_count": 14,
     "metadata": {},
     "output_type": "execute_result"
    }
   ],
   "source": [
    "aantal_ontbrekende_adressen = retailer_site['ADDRESS2'].isna().count()\n",
    "aantal_ontbrekende_adressen\n",
    "retailer_site\n"
   ]
  },
  {
   "cell_type": "markdown",
   "metadata": {},
   "source": [
    "Geef de gemiddelde kostprijs van de verkochte producten waarop korting (unit_sale_price < unit_price) is verleend (1 waarde) "
   ]
  },
  {
   "cell_type": "markdown",
   "metadata": {},
   "source": []
  },
  {
   "cell_type": "code",
   "execution_count": 15,
   "metadata": {},
   "outputs": [
    {
     "data": {
      "text/plain": [
       "192.88697889934417"
      ]
     },
     "execution_count": 15,
     "metadata": {},
     "output_type": "execute_result"
    }
   ],
   "source": [
    "verkochte_producten_met_korting = order_details[order_details['UNIT_SALE_PRICE'] < order_details['UNIT_PRICE']]\n",
    "\n",
    "verkochte_producten_met_korting['UNIT_PRICE'] = pd.to_numeric(verkochte_producten_met_korting['UNIT_PRICE'], errors='coerce')\n",
    "\n",
    "gemiddelde_kostprijs_met_korting = verkochte_producten_met_korting['UNIT_PRICE'].mean()\n",
    "\n",
    "gemiddelde_kostprijs_met_korting\n"
   ]
  },
  {
   "cell_type": "markdown",
   "metadata": {},
   "source": [
    "Geef een overzicht met daarin het aantal medewerkers per medewerkersfunctie (2 kolommen, 7 rijen) "
   ]
  },
  {
   "cell_type": "code",
   "execution_count": 16,
   "metadata": {},
   "outputs": [
    {
     "data": {
      "text/html": [
       "<div>\n",
       "<style scoped>\n",
       "    .dataframe tbody tr th:only-of-type {\n",
       "        vertical-align: middle;\n",
       "    }\n",
       "\n",
       "    .dataframe tbody tr th {\n",
       "        vertical-align: top;\n",
       "    }\n",
       "\n",
       "    .dataframe thead th {\n",
       "        text-align: right;\n",
       "    }\n",
       "</style>\n",
       "<table border=\"1\" class=\"dataframe\">\n",
       "  <thead>\n",
       "    <tr style=\"text-align: right;\">\n",
       "      <th></th>\n",
       "      <th>POSITION_EN</th>\n",
       "      <th>Aantal medewerkers</th>\n",
       "    </tr>\n",
       "  </thead>\n",
       "  <tbody>\n",
       "    <tr>\n",
       "      <th>0</th>\n",
       "      <td>Branch Manager</td>\n",
       "      <td>19</td>\n",
       "    </tr>\n",
       "    <tr>\n",
       "      <th>1</th>\n",
       "      <td>District Manager</td>\n",
       "      <td>4</td>\n",
       "    </tr>\n",
       "    <tr>\n",
       "      <th>2</th>\n",
       "      <td>General Manager</td>\n",
       "      <td>1</td>\n",
       "    </tr>\n",
       "    <tr>\n",
       "      <th>3</th>\n",
       "      <td>Level 1 Sales Representative</td>\n",
       "      <td>13</td>\n",
       "    </tr>\n",
       "    <tr>\n",
       "      <th>4</th>\n",
       "      <td>Level 2 Sales Representative</td>\n",
       "      <td>39</td>\n",
       "    </tr>\n",
       "    <tr>\n",
       "      <th>5</th>\n",
       "      <td>Level 3 Sales Representative</td>\n",
       "      <td>24</td>\n",
       "    </tr>\n",
       "    <tr>\n",
       "      <th>6</th>\n",
       "      <td>Regional Manager</td>\n",
       "      <td>2</td>\n",
       "    </tr>\n",
       "  </tbody>\n",
       "</table>\n",
       "</div>"
      ],
      "text/plain": [
       "                    POSITION_EN  Aantal medewerkers\n",
       "0                Branch Manager                  19\n",
       "1              District Manager                   4\n",
       "2               General Manager                   1\n",
       "3  Level 1 Sales Representative                  13\n",
       "4  Level 2 Sales Representative                  39\n",
       "5  Level 3 Sales Representative                  24\n",
       "6              Regional Manager                   2"
      ]
     },
     "execution_count": 16,
     "metadata": {},
     "output_type": "execute_result"
    }
   ],
   "source": [
    "grouped_by_position = sales_staff.groupby('POSITION_EN').size()\n",
    "aantal_medewerkers_per_functie = grouped_by_position.reset_index(name='Aantal medewerkers')\n",
    "aantal_medewerkers_per_functie\n"
   ]
  },
  {
   "cell_type": "markdown",
   "metadata": {},
   "source": [
    "Geef een overzicht met daarin per telefoonnummer het aantal medewerkers dat op dat telefoonnummer bereikbaar is. Toon alleen de telefoonnummer waarop meer dan 4 medewerkers bereikbaar zijn. (2 kolommen, 10 rijen) "
   ]
  },
  {
   "cell_type": "code",
   "execution_count": 17,
   "metadata": {},
   "outputs": [
    {
     "data": {
      "text/html": [
       "<div>\n",
       "<style scoped>\n",
       "    .dataframe tbody tr th:only-of-type {\n",
       "        vertical-align: middle;\n",
       "    }\n",
       "\n",
       "    .dataframe tbody tr th {\n",
       "        vertical-align: top;\n",
       "    }\n",
       "\n",
       "    .dataframe thead th {\n",
       "        text-align: right;\n",
       "    }\n",
       "</style>\n",
       "<table border=\"1\" class=\"dataframe\">\n",
       "  <thead>\n",
       "    <tr style=\"text-align: right;\">\n",
       "      <th></th>\n",
       "      <th>WORK_PHONE</th>\n",
       "      <th>Aantal_available</th>\n",
       "    </tr>\n",
       "  </thead>\n",
       "  <tbody>\n",
       "    <tr>\n",
       "      <th>4</th>\n",
       "      <td>+(44) 121 3505267</td>\n",
       "      <td>5</td>\n",
       "    </tr>\n",
       "    <tr>\n",
       "      <th>10</th>\n",
       "      <td>+(61) 03 2982  4242</td>\n",
       "      <td>5</td>\n",
       "    </tr>\n",
       "    <tr>\n",
       "      <th>11</th>\n",
       "      <td>+31 (0)20 692 93 94</td>\n",
       "      <td>5</td>\n",
       "    </tr>\n",
       "    <tr>\n",
       "      <th>13</th>\n",
       "      <td>+33 1 68 94 52 20</td>\n",
       "      <td>5</td>\n",
       "    </tr>\n",
       "    <tr>\n",
       "      <th>18</th>\n",
       "      <td>1 (206) 292-0012</td>\n",
       "      <td>5</td>\n",
       "    </tr>\n",
       "    <tr>\n",
       "      <th>19</th>\n",
       "      <td>1 (305) 557-4810</td>\n",
       "      <td>6</td>\n",
       "    </tr>\n",
       "    <tr>\n",
       "      <th>20</th>\n",
       "      <td>1 (310) 281-5722</td>\n",
       "      <td>5</td>\n",
       "    </tr>\n",
       "    <tr>\n",
       "      <th>21</th>\n",
       "      <td>1 (403) 232-5986</td>\n",
       "      <td>5</td>\n",
       "    </tr>\n",
       "    <tr>\n",
       "      <th>22</th>\n",
       "      <td>1 (416) 493-5595</td>\n",
       "      <td>5</td>\n",
       "    </tr>\n",
       "    <tr>\n",
       "      <th>23</th>\n",
       "      <td>1 (617) 268-6754</td>\n",
       "      <td>6</td>\n",
       "    </tr>\n",
       "  </tbody>\n",
       "</table>\n",
       "</div>"
      ],
      "text/plain": [
       "             WORK_PHONE  Aantal_available\n",
       "4     +(44) 121 3505267                 5\n",
       "10  +(61) 03 2982  4242                 5\n",
       "11  +31 (0)20 692 93 94                 5\n",
       "13    +33 1 68 94 52 20                 5\n",
       "18     1 (206) 292-0012                 5\n",
       "19     1 (305) 557-4810                 6\n",
       "20     1 (310) 281-5722                 5\n",
       "21     1 (403) 232-5986                 5\n",
       "22     1 (416) 493-5595                 5\n",
       "23     1 (617) 268-6754                 6"
      ]
     },
     "execution_count": 17,
     "metadata": {},
     "output_type": "execute_result"
    }
   ],
   "source": [
    "groupedBY_Telefoon= sales_staff.groupby('WORK_PHONE').size()\n",
    "aantal = groupedBY_Telefoon.reset_index(name='Aantal_available')\n",
    "\n",
    "meer_dan_vier = aantal[aantal['Aantal_available'] > 4]\n",
    "meer_dan_vier"
   ]
  },
  {
   "cell_type": "markdown",
   "metadata": {},
   "source": [
    "## Selecties op meerdere tabellen zonder functies"
   ]
  },
  {
   "cell_type": "markdown",
   "metadata": {},
   "source": [
    "Geef een overzicht met daarin het eerste adres en de stad van vestigingen van klanten uit ‘Netherlands’ (2 kolommen, 20 rijen) "
   ]
  },
  {
   "cell_type": "code",
   "execution_count": 18,
   "metadata": {},
   "outputs": [
    {
     "data": {
      "text/html": [
       "<div>\n",
       "<style scoped>\n",
       "    .dataframe tbody tr th:only-of-type {\n",
       "        vertical-align: middle;\n",
       "    }\n",
       "\n",
       "    .dataframe tbody tr th {\n",
       "        vertical-align: top;\n",
       "    }\n",
       "\n",
       "    .dataframe thead th {\n",
       "        text-align: right;\n",
       "    }\n",
       "</style>\n",
       "<table border=\"1\" class=\"dataframe\">\n",
       "  <thead>\n",
       "    <tr style=\"text-align: right;\">\n",
       "      <th></th>\n",
       "      <th>ADDRESS1</th>\n",
       "      <th>CITY</th>\n",
       "    </tr>\n",
       "  </thead>\n",
       "  <tbody>\n",
       "    <tr>\n",
       "      <th>0</th>\n",
       "      <td>Beets 36</td>\n",
       "      <td>Beets</td>\n",
       "    </tr>\n",
       "    <tr>\n",
       "      <th>1</th>\n",
       "      <td>Perestraat 1</td>\n",
       "      <td>Deventer</td>\n",
       "    </tr>\n",
       "    <tr>\n",
       "      <th>2</th>\n",
       "      <td>Laan van Meerdervoort 966</td>\n",
       "      <td>Den Haag</td>\n",
       "    </tr>\n",
       "    <tr>\n",
       "      <th>3</th>\n",
       "      <td>Kalfjeslaan 47</td>\n",
       "      <td>Amstelveen</td>\n",
       "    </tr>\n",
       "    <tr>\n",
       "      <th>4</th>\n",
       "      <td>Startbaan 11</td>\n",
       "      <td>Amstelveen</td>\n",
       "    </tr>\n",
       "    <tr>\n",
       "      <th>5</th>\n",
       "      <td>Noorderspoorsingel 28</td>\n",
       "      <td>Groningen</td>\n",
       "    </tr>\n",
       "    <tr>\n",
       "      <th>6</th>\n",
       "      <td>Hogehilweg 13</td>\n",
       "      <td>Amsterdam</td>\n",
       "    </tr>\n",
       "    <tr>\n",
       "      <th>7</th>\n",
       "      <td>Spoorstraat 43</td>\n",
       "      <td>Varsseveld</td>\n",
       "    </tr>\n",
       "    <tr>\n",
       "      <th>8</th>\n",
       "      <td>Westhavenweg 8</td>\n",
       "      <td>Amsterdam</td>\n",
       "    </tr>\n",
       "    <tr>\n",
       "      <th>9</th>\n",
       "      <td>Westzeedijk 4</td>\n",
       "      <td>Muiden</td>\n",
       "    </tr>\n",
       "    <tr>\n",
       "      <th>10</th>\n",
       "      <td>Gooiergracht 91</td>\n",
       "      <td>Laren</td>\n",
       "    </tr>\n",
       "    <tr>\n",
       "      <th>11</th>\n",
       "      <td>Hoofdstraat 150</td>\n",
       "      <td>Pieterburen</td>\n",
       "    </tr>\n",
       "    <tr>\n",
       "      <th>12</th>\n",
       "      <td>Olde Diek 2</td>\n",
       "      <td>Laren</td>\n",
       "    </tr>\n",
       "    <tr>\n",
       "      <th>13</th>\n",
       "      <td>Amsterdamsestraatweg 8</td>\n",
       "      <td>Maarssen</td>\n",
       "    </tr>\n",
       "    <tr>\n",
       "      <th>14</th>\n",
       "      <td>Krayenhoffstraat 11</td>\n",
       "      <td>Amsterdam</td>\n",
       "    </tr>\n",
       "    <tr>\n",
       "      <th>15</th>\n",
       "      <td>Overschiestraat 19</td>\n",
       "      <td>Amsterdam</td>\n",
       "    </tr>\n",
       "    <tr>\n",
       "      <th>16</th>\n",
       "      <td>Havenbuurt 12</td>\n",
       "      <td>Marken</td>\n",
       "    </tr>\n",
       "    <tr>\n",
       "      <th>17</th>\n",
       "      <td>Duivendaal 1</td>\n",
       "      <td>Wageningen</td>\n",
       "    </tr>\n",
       "    <tr>\n",
       "      <th>18</th>\n",
       "      <td>Voorstraat 37</td>\n",
       "      <td>Nieuweschans</td>\n",
       "    </tr>\n",
       "    <tr>\n",
       "      <th>19</th>\n",
       "      <td>Stadhouderslaan 18</td>\n",
       "      <td>Rotterdam</td>\n",
       "    </tr>\n",
       "  </tbody>\n",
       "</table>\n",
       "</div>"
      ],
      "text/plain": [
       "                     ADDRESS1          CITY\n",
       "0                    Beets 36         Beets\n",
       "1                Perestraat 1      Deventer\n",
       "2   Laan van Meerdervoort 966      Den Haag\n",
       "3              Kalfjeslaan 47    Amstelveen\n",
       "4                Startbaan 11    Amstelveen\n",
       "5       Noorderspoorsingel 28     Groningen\n",
       "6               Hogehilweg 13     Amsterdam\n",
       "7              Spoorstraat 43    Varsseveld\n",
       "8              Westhavenweg 8     Amsterdam\n",
       "9               Westzeedijk 4        Muiden\n",
       "10            Gooiergracht 91         Laren\n",
       "11            Hoofdstraat 150   Pieterburen\n",
       "12                Olde Diek 2         Laren\n",
       "13     Amsterdamsestraatweg 8      Maarssen\n",
       "14        Krayenhoffstraat 11     Amsterdam\n",
       "15         Overschiestraat 19     Amsterdam\n",
       "16              Havenbuurt 12        Marken\n",
       "17               Duivendaal 1    Wageningen\n",
       "18              Voorstraat 37  Nieuweschans\n",
       "19         Stadhouderslaan 18     Rotterdam"
      ]
     },
     "execution_count": 18,
     "metadata": {},
     "output_type": "execute_result"
    }
   ],
   "source": [
    "netherlands_customers = country[country['COUNTRY'] == 'Netherlands']\n",
    "\n",
    "netherlands_locations = retailer_site.merge(netherlands_customers, how='inner', left_on='COUNTRY_CODE', right_on='COUNTRY_CODE')\n",
    "\n",
    "netherlands_locations[['ADDRESS1', 'CITY']]"
   ]
  },
  {
   "cell_type": "code",
   "execution_count": null,
   "metadata": {},
   "outputs": [],
   "source": []
  },
  {
   "cell_type": "markdown",
   "metadata": {},
   "source": [
    "Geef een overzicht met daarin de productnamen die tot het producttype ‘Eyewear’ behoren. (1 kolom, 5 rijen) "
   ]
  },
  {
   "cell_type": "markdown",
   "metadata": {},
   "source": []
  },
  {
   "cell_type": "code",
   "execution_count": 19,
   "metadata": {},
   "outputs": [
    {
     "data": {
      "text/plain": [
       "80        Polar Sun\n",
       "81        Polar Ice\n",
       "83     Polar Sports\n",
       "84       Polar Wave\n",
       "85    Polar Extreme\n",
       "Name: PRODUCT_NAME, dtype: object"
      ]
     },
     "execution_count": 19,
     "metadata": {},
     "output_type": "execute_result"
    }
   ],
   "source": [
    "data_met_Eyewear = product_type[product_type['PRODUCT_TYPE_EN'] == 'Eyewear']['PRODUCT_TYPE_CODE']\n",
    "eyewear_product_names = product[product['PRODUCT_TYPE_CODE'].isin(data_met_Eyewear)]['PRODUCT_NAME']\n",
    "eyewear_product_names\n"
   ]
  },
  {
   "cell_type": "markdown",
   "metadata": {},
   "source": [
    "Geef een overzicht met daarin alle unieke eerste adressen van klantvestigingen en de voornaam en achternaam van de verkopers die ‘Branch Manager’ zijn en aan deze vestigingen hebben verkocht (3 kolommen, 1 rij) "
   ]
  },
  {
   "cell_type": "code",
   "execution_count": 20,
   "metadata": {},
   "outputs": [
    {
     "data": {
      "text/html": [
       "<div>\n",
       "<style scoped>\n",
       "    .dataframe tbody tr th:only-of-type {\n",
       "        vertical-align: middle;\n",
       "    }\n",
       "\n",
       "    .dataframe tbody tr th {\n",
       "        vertical-align: top;\n",
       "    }\n",
       "\n",
       "    .dataframe thead th {\n",
       "        text-align: right;\n",
       "    }\n",
       "</style>\n",
       "<table border=\"1\" class=\"dataframe\">\n",
       "  <thead>\n",
       "    <tr style=\"text-align: right;\">\n",
       "      <th></th>\n",
       "      <th>ADDRESS1</th>\n",
       "      <th>FIRST_NAME</th>\n",
       "      <th>LAST_NAME</th>\n",
       "    </tr>\n",
       "  </thead>\n",
       "  <tbody>\n",
       "    <tr>\n",
       "      <th>0</th>\n",
       "      <td>Alameda Santos, 9876</td>\n",
       "      <td>Bayard</td>\n",
       "      <td>Lopes</td>\n",
       "    </tr>\n",
       "  </tbody>\n",
       "</table>\n",
       "</div>"
      ],
      "text/plain": [
       "               ADDRESS1 FIRST_NAME LAST_NAME\n",
       "0  Alameda Santos, 9876     Bayard     Lopes"
      ]
     },
     "execution_count": 20,
     "metadata": {},
     "output_type": "execute_result"
    }
   ],
   "source": [
    "branch_managers = sales_staff[sales_staff['POSITION_EN'] == 'Branch Manager']\n",
    "sales_by_manager = pd.merge(branch_managers, order_header, how='inner', left_on='SALES_STAFF_CODE', right_on='SALES_STAFF_CODE')\n",
    "sales_with_location = pd.merge(sales_by_manager, retailer_site, how='inner', left_on='RETAILER_SITE_CODE', right_on='RETAILER_SITE_CODE')\n",
    "result = sales_with_location[['ADDRESS1', 'FIRST_NAME', 'LAST_NAME']].drop_duplicates()\n",
    "result"
   ]
  },
  {
   "cell_type": "markdown",
   "metadata": {},
   "source": [
    "Geef een overzicht met daarin van de verkopers hun functie en indien zij iets hebben verkocht de datum waarop de verkoop heeft plaatsgevonden. Laat alleen de verschillende namen van de posities zien van de verkopers die het woord ‘Manager’ in hun positienaam hebben staan. (2 kolommen, 9 rijen) "
   ]
  },
  {
   "cell_type": "code",
   "execution_count": 21,
   "metadata": {},
   "outputs": [
    {
     "data": {
      "text/html": [
       "<div>\n",
       "<style scoped>\n",
       "    .dataframe tbody tr th:only-of-type {\n",
       "        vertical-align: middle;\n",
       "    }\n",
       "\n",
       "    .dataframe tbody tr th {\n",
       "        vertical-align: top;\n",
       "    }\n",
       "\n",
       "    .dataframe thead th {\n",
       "        text-align: right;\n",
       "    }\n",
       "</style>\n",
       "<table border=\"1\" class=\"dataframe\">\n",
       "  <thead>\n",
       "    <tr style=\"text-align: right;\">\n",
       "      <th></th>\n",
       "      <th>POSITION_EN</th>\n",
       "      <th>ORDER_DATE</th>\n",
       "    </tr>\n",
       "  </thead>\n",
       "  <tbody>\n",
       "    <tr>\n",
       "      <th>0</th>\n",
       "      <td>Branch Manager</td>\n",
       "      <td>2022-09-09</td>\n",
       "    </tr>\n",
       "    <tr>\n",
       "      <th>1</th>\n",
       "      <td>Branch Manager</td>\n",
       "      <td>2022-10-31</td>\n",
       "    </tr>\n",
       "    <tr>\n",
       "      <th>2</th>\n",
       "      <td>Branch Manager</td>\n",
       "      <td>2022-12-13</td>\n",
       "    </tr>\n",
       "    <tr>\n",
       "      <th>3</th>\n",
       "      <td>Branch Manager</td>\n",
       "      <td>2022-03-13</td>\n",
       "    </tr>\n",
       "    <tr>\n",
       "      <th>4</th>\n",
       "      <td>Branch Manager</td>\n",
       "      <td>2022-01-09</td>\n",
       "    </tr>\n",
       "  </tbody>\n",
       "</table>\n",
       "</div>"
      ],
      "text/plain": [
       "      POSITION_EN  ORDER_DATE\n",
       "0  Branch Manager  2022-09-09\n",
       "1  Branch Manager  2022-10-31\n",
       "2  Branch Manager  2022-12-13\n",
       "3  Branch Manager  2022-03-13\n",
       "4  Branch Manager  2022-01-09"
      ]
     },
     "execution_count": 21,
     "metadata": {},
     "output_type": "execute_result"
    }
   ],
   "source": [
    "managers = sales_staff[sales_staff['POSITION_EN'].str.contains('Manager')]\n",
    "sales_by_manager = pd.merge(managers, order_header, how='inner', left_on='SALES_STAFF_CODE', right_on='SALES_STAFF_CODE')\n",
    "result = sales_by_manager[['POSITION_EN', 'ORDER_DATE']].drop_duplicates()\n",
    "result"
   ]
  },
  {
   "cell_type": "markdown",
   "metadata": {},
   "source": [
    "Geef een overzicht met daarin de verschillende namen van producten en bijbehorende namen van producttypen van de producten waarvoor ooit meer dan 750 stuks tegelijk verkocht zijn. (2 kolommen, 9 rijen) "
   ]
  },
  {
   "cell_type": "code",
   "execution_count": 22,
   "metadata": {},
   "outputs": [
    {
     "ename": "KeyError",
     "evalue": "'PRODUCT_CODE'",
     "output_type": "error",
     "traceback": [
      "\u001b[1;31m---------------------------------------------------------------------------\u001b[0m",
      "\u001b[1;31mKeyError\u001b[0m                                  Traceback (most recent call last)",
      "Cell \u001b[1;32mIn[22], line 2\u001b[0m\n\u001b[0;32m      1\u001b[0m \u001b[38;5;66;03m# Stap 1: Bereken totalen van verkochte eenheden per product\u001b[39;00m\n\u001b[1;32m----> 2\u001b[0m total_sold_per_product \u001b[38;5;241m=\u001b[39m \u001b[43morder_details\u001b[49m\u001b[38;5;241;43m.\u001b[39;49m\u001b[43mgroupby\u001b[49m\u001b[43m(\u001b[49m\u001b[38;5;124;43m'\u001b[39;49m\u001b[38;5;124;43mPRODUCT_CODE\u001b[39;49m\u001b[38;5;124;43m'\u001b[39;49m\u001b[43m)\u001b[49m[\u001b[38;5;124m'\u001b[39m\u001b[38;5;124mQUANTITY_SOLD\u001b[39m\u001b[38;5;124m'\u001b[39m]\u001b[38;5;241m.\u001b[39msum()\n\u001b[0;32m      4\u001b[0m \u001b[38;5;66;03m# Stap 2: Filter producten waarvoor meer dan 750 stuks zijn verkocht\u001b[39;00m\n\u001b[0;32m      5\u001b[0m high_demand_products \u001b[38;5;241m=\u001b[39m total_sold_per_product[total_sold_per_product \u001b[38;5;241m>\u001b[39m \u001b[38;5;241m750\u001b[39m]\u001b[38;5;241m.\u001b[39mindex\n",
      "File \u001b[1;32mc:\\Users\\troy\\AppData\\Local\\pypoetry\\Cache\\virtualenvs\\dataeng-zZ9Bt289-py3.12\\Lib\\site-packages\\pandas\\core\\frame.py:9156\u001b[0m, in \u001b[0;36mDataFrame.groupby\u001b[1;34m(self, by, axis, level, as_index, sort, group_keys, observed, dropna)\u001b[0m\n\u001b[0;32m   9153\u001b[0m \u001b[38;5;28;01mif\u001b[39;00m level \u001b[38;5;129;01mis\u001b[39;00m \u001b[38;5;28;01mNone\u001b[39;00m \u001b[38;5;129;01mand\u001b[39;00m by \u001b[38;5;129;01mis\u001b[39;00m \u001b[38;5;28;01mNone\u001b[39;00m:\n\u001b[0;32m   9154\u001b[0m     \u001b[38;5;28;01mraise\u001b[39;00m \u001b[38;5;167;01mTypeError\u001b[39;00m(\u001b[38;5;124m\"\u001b[39m\u001b[38;5;124mYou have to supply one of \u001b[39m\u001b[38;5;124m'\u001b[39m\u001b[38;5;124mby\u001b[39m\u001b[38;5;124m'\u001b[39m\u001b[38;5;124m and \u001b[39m\u001b[38;5;124m'\u001b[39m\u001b[38;5;124mlevel\u001b[39m\u001b[38;5;124m'\u001b[39m\u001b[38;5;124m\"\u001b[39m)\n\u001b[1;32m-> 9156\u001b[0m \u001b[38;5;28;01mreturn\u001b[39;00m \u001b[43mDataFrameGroupBy\u001b[49m\u001b[43m(\u001b[49m\n\u001b[0;32m   9157\u001b[0m \u001b[43m    \u001b[49m\u001b[43mobj\u001b[49m\u001b[38;5;241;43m=\u001b[39;49m\u001b[38;5;28;43mself\u001b[39;49m\u001b[43m,\u001b[49m\n\u001b[0;32m   9158\u001b[0m \u001b[43m    \u001b[49m\u001b[43mkeys\u001b[49m\u001b[38;5;241;43m=\u001b[39;49m\u001b[43mby\u001b[49m\u001b[43m,\u001b[49m\n\u001b[0;32m   9159\u001b[0m \u001b[43m    \u001b[49m\u001b[43maxis\u001b[49m\u001b[38;5;241;43m=\u001b[39;49m\u001b[43maxis\u001b[49m\u001b[43m,\u001b[49m\n\u001b[0;32m   9160\u001b[0m \u001b[43m    \u001b[49m\u001b[43mlevel\u001b[49m\u001b[38;5;241;43m=\u001b[39;49m\u001b[43mlevel\u001b[49m\u001b[43m,\u001b[49m\n\u001b[0;32m   9161\u001b[0m \u001b[43m    \u001b[49m\u001b[43mas_index\u001b[49m\u001b[38;5;241;43m=\u001b[39;49m\u001b[43mas_index\u001b[49m\u001b[43m,\u001b[49m\n\u001b[0;32m   9162\u001b[0m \u001b[43m    \u001b[49m\u001b[43msort\u001b[49m\u001b[38;5;241;43m=\u001b[39;49m\u001b[43msort\u001b[49m\u001b[43m,\u001b[49m\n\u001b[0;32m   9163\u001b[0m \u001b[43m    \u001b[49m\u001b[43mgroup_keys\u001b[49m\u001b[38;5;241;43m=\u001b[39;49m\u001b[43mgroup_keys\u001b[49m\u001b[43m,\u001b[49m\n\u001b[0;32m   9164\u001b[0m \u001b[43m    \u001b[49m\u001b[43mobserved\u001b[49m\u001b[38;5;241;43m=\u001b[39;49m\u001b[43mobserved\u001b[49m\u001b[43m,\u001b[49m\n\u001b[0;32m   9165\u001b[0m \u001b[43m    \u001b[49m\u001b[43mdropna\u001b[49m\u001b[38;5;241;43m=\u001b[39;49m\u001b[43mdropna\u001b[49m\u001b[43m,\u001b[49m\n\u001b[0;32m   9166\u001b[0m \u001b[43m\u001b[49m\u001b[43m)\u001b[49m\n",
      "File \u001b[1;32mc:\\Users\\troy\\AppData\\Local\\pypoetry\\Cache\\virtualenvs\\dataeng-zZ9Bt289-py3.12\\Lib\\site-packages\\pandas\\core\\groupby\\groupby.py:1329\u001b[0m, in \u001b[0;36mGroupBy.__init__\u001b[1;34m(self, obj, keys, axis, level, grouper, exclusions, selection, as_index, sort, group_keys, observed, dropna)\u001b[0m\n\u001b[0;32m   1326\u001b[0m \u001b[38;5;28mself\u001b[39m\u001b[38;5;241m.\u001b[39mdropna \u001b[38;5;241m=\u001b[39m dropna\n\u001b[0;32m   1328\u001b[0m \u001b[38;5;28;01mif\u001b[39;00m grouper \u001b[38;5;129;01mis\u001b[39;00m \u001b[38;5;28;01mNone\u001b[39;00m:\n\u001b[1;32m-> 1329\u001b[0m     grouper, exclusions, obj \u001b[38;5;241m=\u001b[39m \u001b[43mget_grouper\u001b[49m\u001b[43m(\u001b[49m\n\u001b[0;32m   1330\u001b[0m \u001b[43m        \u001b[49m\u001b[43mobj\u001b[49m\u001b[43m,\u001b[49m\n\u001b[0;32m   1331\u001b[0m \u001b[43m        \u001b[49m\u001b[43mkeys\u001b[49m\u001b[43m,\u001b[49m\n\u001b[0;32m   1332\u001b[0m \u001b[43m        \u001b[49m\u001b[43maxis\u001b[49m\u001b[38;5;241;43m=\u001b[39;49m\u001b[43maxis\u001b[49m\u001b[43m,\u001b[49m\n\u001b[0;32m   1333\u001b[0m \u001b[43m        \u001b[49m\u001b[43mlevel\u001b[49m\u001b[38;5;241;43m=\u001b[39;49m\u001b[43mlevel\u001b[49m\u001b[43m,\u001b[49m\n\u001b[0;32m   1334\u001b[0m \u001b[43m        \u001b[49m\u001b[43msort\u001b[49m\u001b[38;5;241;43m=\u001b[39;49m\u001b[43msort\u001b[49m\u001b[43m,\u001b[49m\n\u001b[0;32m   1335\u001b[0m \u001b[43m        \u001b[49m\u001b[43mobserved\u001b[49m\u001b[38;5;241;43m=\u001b[39;49m\u001b[38;5;28;43;01mFalse\u001b[39;49;00m\u001b[43m \u001b[49m\u001b[38;5;28;43;01mif\u001b[39;49;00m\u001b[43m \u001b[49m\u001b[43mobserved\u001b[49m\u001b[43m \u001b[49m\u001b[38;5;129;43;01mis\u001b[39;49;00m\u001b[43m \u001b[49m\u001b[43mlib\u001b[49m\u001b[38;5;241;43m.\u001b[39;49m\u001b[43mno_default\u001b[49m\u001b[43m \u001b[49m\u001b[38;5;28;43;01melse\u001b[39;49;00m\u001b[43m \u001b[49m\u001b[43mobserved\u001b[49m\u001b[43m,\u001b[49m\n\u001b[0;32m   1336\u001b[0m \u001b[43m        \u001b[49m\u001b[43mdropna\u001b[49m\u001b[38;5;241;43m=\u001b[39;49m\u001b[38;5;28;43mself\u001b[39;49m\u001b[38;5;241;43m.\u001b[39;49m\u001b[43mdropna\u001b[49m\u001b[43m,\u001b[49m\n\u001b[0;32m   1337\u001b[0m \u001b[43m    \u001b[49m\u001b[43m)\u001b[49m\n\u001b[0;32m   1339\u001b[0m \u001b[38;5;28;01mif\u001b[39;00m observed \u001b[38;5;129;01mis\u001b[39;00m lib\u001b[38;5;241m.\u001b[39mno_default:\n\u001b[0;32m   1340\u001b[0m     \u001b[38;5;28;01mif\u001b[39;00m \u001b[38;5;28many\u001b[39m(ping\u001b[38;5;241m.\u001b[39m_passed_categorical \u001b[38;5;28;01mfor\u001b[39;00m ping \u001b[38;5;129;01min\u001b[39;00m grouper\u001b[38;5;241m.\u001b[39mgroupings):\n",
      "File \u001b[1;32mc:\\Users\\troy\\AppData\\Local\\pypoetry\\Cache\\virtualenvs\\dataeng-zZ9Bt289-py3.12\\Lib\\site-packages\\pandas\\core\\groupby\\grouper.py:1043\u001b[0m, in \u001b[0;36mget_grouper\u001b[1;34m(obj, key, axis, level, sort, observed, validate, dropna)\u001b[0m\n\u001b[0;32m   1041\u001b[0m         in_axis, level, gpr \u001b[38;5;241m=\u001b[39m \u001b[38;5;28;01mFalse\u001b[39;00m, gpr, \u001b[38;5;28;01mNone\u001b[39;00m\n\u001b[0;32m   1042\u001b[0m     \u001b[38;5;28;01melse\u001b[39;00m:\n\u001b[1;32m-> 1043\u001b[0m         \u001b[38;5;28;01mraise\u001b[39;00m \u001b[38;5;167;01mKeyError\u001b[39;00m(gpr)\n\u001b[0;32m   1044\u001b[0m \u001b[38;5;28;01melif\u001b[39;00m \u001b[38;5;28misinstance\u001b[39m(gpr, Grouper) \u001b[38;5;129;01mand\u001b[39;00m gpr\u001b[38;5;241m.\u001b[39mkey \u001b[38;5;129;01mis\u001b[39;00m \u001b[38;5;129;01mnot\u001b[39;00m \u001b[38;5;28;01mNone\u001b[39;00m:\n\u001b[0;32m   1045\u001b[0m     \u001b[38;5;66;03m# Add key to exclusions\u001b[39;00m\n\u001b[0;32m   1046\u001b[0m     exclusions\u001b[38;5;241m.\u001b[39madd(gpr\u001b[38;5;241m.\u001b[39mkey)\n",
      "\u001b[1;31mKeyError\u001b[0m: 'PRODUCT_CODE'"
     ]
    }
   ],
   "source": [
    "# Stap 1: Bereken totalen van verkochte eenheden per product\n",
    "total_sold_per_product = order_details.groupby('PRODUCT_CODE')['QUANTITY_SOLD'].sum()\n",
    "\n",
    "# Stap 2: Filter producten waarvoor meer dan 750 stuks zijn verkocht\n",
    "high_demand_products = total_sold_per_product[total_sold_per_product > 750].index\n",
    "\n",
    "# Stap 3: Selecteer namen van producten en bijbehorende producttypen\n",
    "selected_products = product[product['PRODUCT_CODE'].isin(high_demand_products)][['PRODUCT_CODE', 'PRODUCT_NAME']]\n",
    "product_types = product_type[['PRODUCT_TYPE_CODE', 'PRODUCT_TYPE_NAME']]\n",
    "\n",
    "# Stap 4: Combineer informatie in een overzicht\n",
    "result = pd.merge(selected_products, product_types, left_on='PRODUCT_TYPE_CODE', right_on='PRODUCT_TYPE_CODE')[['PRODUCT_NAME', 'PRODUCT_TYPE_NAME']]\n",
    "result\n"
   ]
  },
  {
   "cell_type": "markdown",
   "metadata": {},
   "source": [
    "Geef een overzicht met daarin de productnamen waarvan ooit meer dan 40% korting is verleend. De formule voor korting is: (unit_price - unit_sale_price) / unit_price (1 kolom, 8 rijen) "
   ]
  },
  {
   "cell_type": "code",
   "execution_count": null,
   "metadata": {},
   "outputs": [],
   "source": [
    "product_merge_40_korting = ((product_merge['UNIT_PRICE'].astype(float) - product_merge['UNIT_SALE_PRICE'].astype(float))/product_merge['UNIT_PRICE'].astype(float)) > 0.4\n",
    "product_merge.loc[product_merge_40_korting,['PRODUCT_NAME']].drop_duplicates()"
   ]
  },
  {
   "cell_type": "markdown",
   "metadata": {},
   "source": [
    "Geef een overzicht met daarin de retourreden van producten waarvan ooit meer dan 90% van de aangeschafte hoeveelheid is teruggebracht (return_quantity/quantity). (1 kolom, 3 rijen) "
   ]
  },
  {
   "cell_type": "code",
   "execution_count": null,
   "metadata": {},
   "outputs": [
    {
     "ename": "NameError",
     "evalue": "name 'pd' is not defined",
     "output_type": "error",
     "traceback": [
      "\u001b[1;31m---------------------------------------------------------------------------\u001b[0m",
      "\u001b[1;31mNameError\u001b[0m                                 Traceback (most recent call last)",
      "Cell \u001b[1;32mIn[1], line 1\u001b[0m\n\u001b[1;32m----> 1\u001b[0m returned_item_merge \u001b[38;5;241m=\u001b[39m \u001b[43mpd\u001b[49m\u001b[38;5;241m.\u001b[39mmerge(returned_item,order_details,left_on\u001b[38;5;241m=\u001b[39m\u001b[38;5;124m'\u001b[39m\u001b[38;5;124mORDER_DETAIL_CODE\u001b[39m\u001b[38;5;124m'\u001b[39m,how\u001b[38;5;241m=\u001b[39m\u001b[38;5;124m'\u001b[39m\u001b[38;5;124mleft\u001b[39m\u001b[38;5;124m'\u001b[39m,right_on\u001b[38;5;241m=\u001b[39m\u001b[38;5;124m'\u001b[39m\u001b[38;5;124mORDER_DETAIL_CODE\u001b[39m\u001b[38;5;124m'\u001b[39m)\n\u001b[0;32m      2\u001b[0m returned_item_90 \u001b[38;5;241m=\u001b[39m (returned_item_merge[\u001b[38;5;124m'\u001b[39m\u001b[38;5;124mRETURN_QUANTITY\u001b[39m\u001b[38;5;124m'\u001b[39m]\u001b[38;5;241m.\u001b[39mastype(\u001b[38;5;28mfloat\u001b[39m)\u001b[38;5;241m/\u001b[39mreturned_item_merge[\u001b[38;5;124m'\u001b[39m\u001b[38;5;124mQUANTITY\u001b[39m\u001b[38;5;124m'\u001b[39m]\u001b[38;5;241m.\u001b[39mastype(\u001b[38;5;28mfloat\u001b[39m)) \u001b[38;5;241m<\u001b[39m \u001b[38;5;241m0.9\u001b[39m\n\u001b[0;32m      3\u001b[0m returned_item_merge\u001b[38;5;241m.\u001b[39mloc[returned_item_90,[\u001b[38;5;124m'\u001b[39m\u001b[38;5;124mRETURN_QUANTITY\u001b[39m\u001b[38;5;124m'\u001b[39m,\u001b[38;5;124m'\u001b[39m\u001b[38;5;124mQUANTITY\u001b[39m\u001b[38;5;124m'\u001b[39m,\u001b[38;5;124m'\u001b[39m\u001b[38;5;124mRETURN_REASON_CODE\u001b[39m\u001b[38;5;124m'\u001b[39m]]\n",
      "\u001b[1;31mNameError\u001b[0m: name 'pd' is not defined"
     ]
    }
   ],
   "source": [
    "returned_item_merge = pd.merge(returned_item,order_details,left_on='ORDER_DETAIL_CODE',how='left',right_on='ORDER_DETAIL_CODE')\n",
    "returned_item_90 = (returned_item_merge['RETURN_QUANTITY'].astype(float)/returned_item_merge['QUANTITY'].astype(float)) < 0.9\n",
    "returned_item_merge.loc[returned_item_90,['RETURN_QUANTITY','QUANTITY','RETURN_REASON_CODE']]"
   ]
  },
  {
   "cell_type": "markdown",
   "metadata": {},
   "source": [
    "## Selecties op meerdere tabellen met functies"
   ]
  },
  {
   "cell_type": "markdown",
   "metadata": {},
   "source": [
    "Geef een overzicht met daarin per producttype het aantal producten die tot dat producttype behoren. (2 kolommen, 21 rijen) "
   ]
  },
  {
   "cell_type": "code",
   "execution_count": null,
   "metadata": {},
   "outputs": [],
   "source": [
    "product.groupby('PRODUCT_TYPE_CODE',as_index=False)['PRODUCT_NUMBER'].count()"
   ]
  },
  {
   "cell_type": "markdown",
   "metadata": {},
   "source": [
    "Geef een overzicht met daarin per land het aantal vestigingen van klanten die zich in dat land bevinden. (2 kolommen, 21 rijen) "
   ]
  },
  {
   "cell_type": "code",
   "execution_count": null,
   "metadata": {},
   "outputs": [],
   "source": [
    "retailer_site.groupby('COUNTRY_CODE',as_index=False)['RETAILER_SITE_CODE'].count()"
   ]
  },
  {
   "cell_type": "markdown",
   "metadata": {},
   "source": [
    "Geef een overzicht met daarin van de producten behorend tot het producttype ‘Cooking Gear’ per productnaam de totaal verkochte hoeveelheid en de gemiddelde verkoopprijs. Sorteer de uitkomst op totaal verkochte hoeveelheid. (4 kolommen, 10 rijen) "
   ]
  },
  {
   "cell_type": "code",
   "execution_count": null,
   "metadata": {},
   "outputs": [],
   "source": []
  },
  {
   "cell_type": "markdown",
   "metadata": {},
   "source": [
    "Geef een overzicht met daarin van de verkopers behorend tot de verkoopafdeling uit ‘Amsterdam’ de voornaam en achternaam van de verkoper en zijn laagste en hoogste verkooptarget van 2006. (4 kolommen, 4 rijen) "
   ]
  },
  {
   "cell_type": "code",
   "execution_count": null,
   "metadata": {},
   "outputs": [
    {
     "data": {
      "text/html": [
       "<div>\n",
       "<style scoped>\n",
       "    .dataframe tbody tr th:only-of-type {\n",
       "        vertical-align: middle;\n",
       "    }\n",
       "\n",
       "    .dataframe tbody tr th {\n",
       "        vertical-align: top;\n",
       "    }\n",
       "\n",
       "    .dataframe thead th {\n",
       "        text-align: right;\n",
       "    }\n",
       "</style>\n",
       "<table border=\"1\" class=\"dataframe\">\n",
       "  <thead>\n",
       "    <tr style=\"text-align: right;\">\n",
       "      <th></th>\n",
       "      <th>Id</th>\n",
       "      <th>SALES_STAFF_CODE</th>\n",
       "      <th>SALES_YEAR</th>\n",
       "      <th>SALES_PERIOD</th>\n",
       "      <th>RETAILER_NAME</th>\n",
       "      <th>PRODUCT_NUMBER</th>\n",
       "      <th>SALES_TARGET</th>\n",
       "      <th>RETAILER_CODE</th>\n",
       "      <th>TRIAL888</th>\n",
       "    </tr>\n",
       "  </thead>\n",
       "  <tbody>\n",
       "  </tbody>\n",
       "</table>\n",
       "</div>"
      ],
      "text/plain": [
       "Empty DataFrame\n",
       "Columns: [Id, SALES_STAFF_CODE, SALES_YEAR, SALES_PERIOD, RETAILER_NAME, PRODUCT_NUMBER, SALES_TARGET, RETAILER_CODE, TRIAL888]\n",
       "Index: []"
      ]
     },
     "execution_count": 42,
     "metadata": {},
     "output_type": "execute_result"
    }
   ],
   "source": [
    "amsterdam_sales_staff = sales_staff[sales_staff['SALES_BRANCH_CODE'] == 'Amsterdam']\n",
    "targets_2006 = target[(target['SALES_YEAR'] == 2006) & (target['SALES_STAFF_CODE'].isin(amsterdam_sales_staff['SALES_STAFF_CODE']))]"
   ]
  },
  {
   "cell_type": "markdown",
   "metadata": {},
   "source": [
    "Geef een overzicht met daarin per land de naam van het land, de naam van de stad waar de verkoopafdeling is gevestigd (noem de kolomnaam in het overzicht ‘verkoper’) en het aantal steden waar zich klanten bevinden in dat land (noem de kolomnaam in het overzicht ‘klanten’) (3 kolommen, 29 rijen) "
   ]
  },
  {
   "cell_type": "code",
   "execution_count": null,
   "metadata": {},
   "outputs": [],
   "source": []
  },
  {
   "cell_type": "markdown",
   "metadata": {},
   "source": [
    "## Pythonvertalingen van SUBSELECT en UNION met o.a. for-loops"
   ]
  },
  {
   "cell_type": "markdown",
   "metadata": {},
   "source": [
    "Geef een overzicht met daarin de voornaam en de achternaam van de medewerkers die nog nooit wat hebben verkocht (2 kolommen, 25 rijen) "
   ]
  },
  {
   "cell_type": "code",
   "execution_count": null,
   "metadata": {},
   "outputs": [],
   "source": []
  },
  {
   "cell_type": "markdown",
   "metadata": {},
   "source": [
    "Geef een overzicht met daarin het aantal producten waarvan de marge lager is dan de gemiddelde marge van alle producten samen. Geef in het overzicht tevens aan wat de gemiddelde marge is van dit aantal producten waarvan de marge lager dan de gemiddelde marge van alle producten samen is. (1 kolom, 2 rijen) "
   ]
  },
  {
   "cell_type": "code",
   "execution_count": null,
   "metadata": {},
   "outputs": [],
   "source": []
  },
  {
   "cell_type": "markdown",
   "metadata": {},
   "source": [
    "Geef een overzicht met daarin de namen van de producten die voor meer dan 500 (verkoopprijs) zijn verkocht maar nooit zijn teruggebracht. (1 kolom, 13 rijen) "
   ]
  },
  {
   "cell_type": "code",
   "execution_count": null,
   "metadata": {},
   "outputs": [],
   "source": []
  },
  {
   "cell_type": "markdown",
   "metadata": {},
   "source": [
    "Geef een overzicht met daarin per (achternaam van) medewerker of hij/zij manager is of niet, door deze informatie toe te voegen als extra 'Ja/Nee'-kolom.<br>\n",
    "Hint: gebruik een for-loop waarin je o.a. bepaalt of het woord 'Manager' in de functie (position_en) staat. (2 kolommen, 102 rijen)."
   ]
  },
  {
   "cell_type": "code",
   "execution_count": null,
   "metadata": {},
   "outputs": [],
   "source": []
  },
  {
   "cell_type": "markdown",
   "metadata": {},
   "source": [
    "Met de onderstaande code laat je Python het huidige jaar uitrekenen."
   ]
  },
  {
   "cell_type": "code",
   "execution_count": null,
   "metadata": {},
   "outputs": [
    {
     "data": {
      "text/plain": [
       "2024"
      ]
     },
     "execution_count": 21,
     "metadata": {},
     "output_type": "execute_result"
    }
   ],
   "source": [
    "from datetime import date\n",
    "date.today().year"
   ]
  },
  {
   "cell_type": "markdown",
   "metadata": {},
   "source": [
    "Met de onderstaande code selecteer je op een bepaald jaartal uit een datum."
   ]
  },
  {
   "cell_type": "code",
   "execution_count": null,
   "metadata": {},
   "outputs": [
    {
     "data": {
      "text/plain": [
       "2013"
      ]
     },
     "execution_count": 22,
     "metadata": {},
     "output_type": "execute_result"
    }
   ],
   "source": [
    "from datetime import datetime\n",
    "\n",
    "date_str = '16-8-2013'\n",
    "date_format = '%d-%m-%Y'\n",
    "date_obj = datetime.strptime(date_str, date_format)\n",
    "\n",
    "date_obj.year"
   ]
  },
  {
   "cell_type": "markdown",
   "metadata": {},
   "source": [
    "Geef met behulp van bovenstaande hulpcode een overzicht met daarin op basis van het aantal jaar dat iemand in dienst is of een medewerker ‘kort in dienst’ (minder dan 25 jaar in dienst) of een ‘lang in dienst’ (groter gelijk dan 12 jaar in dienst) is. Geef daarbij per medewerker in een aparte kolom zowel ‘kort in dienst’ als ‘lang in dienst’ aan. Gebruik (wederom) een for-loop.<br>\n",
    "(2 kolommen, 102 rijen) "
   ]
  },
  {
   "cell_type": "code",
   "execution_count": null,
   "metadata": {},
   "outputs": [],
   "source": []
  }
 ],
 "metadata": {
  "kernelspec": {
   "display_name": "python-in-deds-P4iSP_yI-py3.11",
   "language": "python",
   "name": "python3"
  },
  "language_info": {
   "codemirror_mode": {
    "name": "ipython",
    "version": 3
   },
   "file_extension": ".py",
   "mimetype": "text/x-python",
   "name": "python",
   "nbconvert_exporter": "python",
   "pygments_lexer": "ipython3",
   "version": "3.12.2"
  }
 },
 "nbformat": 4,
 "nbformat_minor": 2
}
