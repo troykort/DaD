{
 "cells": [
  {
   "cell_type": "code",
   "execution_count": null,
   "metadata": {},
   "outputs": [],
   "source": [
    "import pandas as pd \n",
    "import pyodbc\n",
    "import warnings\n",
    "warnings.simplefilter('ignore')\n",
    "import sqlite3"
   ]
  },
  {
   "cell_type": "code",
   "execution_count": null,
   "metadata": {},
   "outputs": [],
   "source": []
  },
  {
   "cell_type": "code",
   "execution_count": null,
   "metadata": {},
   "outputs": [],
   "source": [
    "\n",
    "import pandas as pd \n",
    "import pyodbc\n",
    "import warnings\n",
    "warnings.simplefilter('ignore')\n",
    "import sqlite3\n",
    "from sklearn.model_selection import train_test_split\n",
    "from sklearn.linear_model import LinearRegression\n",
    "from sklearn.metrics import mean_squared_error, mean_absolute_error\n",
    "import matplotlib.pyplot as plt"
   ]
  },
  {
   "cell_type": "code",
   "execution_count": null,
   "metadata": {},
   "outputs": [],
   "source": [
    "DB = {'servername': 'LAPTOPTK\\SQLEXPRESS', 'database': 'DAD'}\n",
    "\n",
    "conn_str = (\n",
    "    'DRIVER={SQL Server};'\n",
    "    'SERVER=' + DB['servername'] + ';'\n",
    "    'DATABASE=' + DB['database'] + ';'\n",
    "    'Trusted_Connection=yes;'\n",
    ")\n",
    "\n",
    "conn = pyodbc.connect(conn_str)\n",
    "\n",
    "query = \"SELECT * FROM ORDERR\"\n",
    "order = pd.read_sql_query(query, conn)\n",
    "\n",
    "conn.close()"
   ]
  },
  {
   "cell_type": "code",
   "execution_count": null,
   "metadata": {},
   "outputs": [],
   "source": [
    "order['DATE_Order_date'] = pd.to_datetime(order['DATE_Order_date'])\n",
    "order['Year'] = order['DATE_Order_date'].dt.year\n",
    "order['Month'] = order['DATE_Order_date'].dt.month\n",
    "order['Day'] = order['DATE_Order_date'].dt.day\n",
    "order = order.drop('DATE_Order_date', axis=1) "
   ]
  },
  {
   "cell_type": "code",
   "execution_count": null,
   "metadata": {},
   "outputs": [],
   "source": [
    "conn = pyodbc.connect(conn_str)\n",
    "\n",
    "query = \"SELECT * FROM PRODUCT\"\n",
    "product = pd.read_sql_query(query, conn)\n",
    "\n",
    "conn.close()"
   ]
  },
  {
   "cell_type": "code",
   "execution_count": null,
   "metadata": {},
   "outputs": [],
   "source": [
    "conn = pyodbc.connect(conn_str)\n",
    "\n",
    "query = \"SELECT * FROM RETALER_SITE\"\n",
    "retailer = pd.read_sql_query(query, conn)\n",
    "\n",
    "conn.close()"
   ]
  },
  {
   "cell_type": "code",
   "execution_count": null,
   "metadata": {},
   "outputs": [],
   "source": [
    "order = pd.merge(order, product, left_on='PRODUCT_number', right_on='PRODUCT_id')"
   ]
  },
  {
   "cell_type": "code",
   "execution_count": null,
   "metadata": {},
   "outputs": [],
   "source": [
    "order = pd.merge(order, retailer, left_on='RETAILER_SITE_id', right_on='RETALER_SITE_id')"
   ]
  },
  {
   "cell_type": "code",
   "execution_count": null,
   "metadata": {},
   "outputs": [],
   "source": [
    "order"
   ]
  },
  {
   "cell_type": "code",
   "execution_count": null,
   "metadata": {},
   "outputs": [],
   "source": [
    "order_dummy = order[['ORDER_unit_Cost', 'ORDER_Unit_price', 'ORDER_Unit_sale_price', 'PRODUCT_number', 'RETAILER_SITE_id', 'SALES_STAFF_id', 'Year','Month','Year', 'ORDER_Quantity','RETALER_SITE_CITY_name'\n",
    "      ,'RETALER_SITE_REGION_name','RETALER_SITE_COUNTRYname','RETALER_SITE_TERRITORY_name','PRODUCT_TYPE_name','PRODUCT_LINE_name']]\n",
    "df_encoded = pd.get_dummies(order_dummy, columns=['PRODUCT_number', 'RETAILER_SITE_id', 'SALES_STAFF_id','RETALER_SITE_CITY_name','RETALER_SITE_REGION_name','RETALER_SITE_COUNTRYname','RETALER_SITE_TERRITORY_name','PRODUCT_TYPE_name','PRODUCT_LINE_name'], drop_first=True)\n",
    "df_encoded "
   ]
  },
  {
   "cell_type": "code",
   "execution_count": null,
   "metadata": {},
   "outputs": [],
   "source": [
    "X = df_encoded.drop('ORDER_Quantity', axis=1)  \n",
    "y = df_encoded[['ORDER_Quantity']]"
   ]
  },
  {
   "cell_type": "code",
   "execution_count": null,
   "metadata": {},
   "outputs": [],
   "source": [
    "X_train, X_test, y_train, y_test = train_test_split(\n",
    "    X, y, test_size=0.15, random_state=42\n",
    ")"
   ]
  },
  {
   "cell_type": "code",
   "execution_count": null,
   "metadata": {},
   "outputs": [],
   "source": [
    "reg_model = LinearRegression()\n",
    "reg_model.fit(X_train, y_train)"
   ]
  },
  {
   "cell_type": "code",
   "execution_count": null,
   "metadata": {},
   "outputs": [],
   "source": [
    "y_pred = reg_model.predict(X_test)"
   ]
  },
  {
   "cell_type": "code",
   "execution_count": null,
   "metadata": {},
   "outputs": [],
   "source": [
    "prediction_df = pd.DataFrame(y_pred, columns=['Predicted Quantity'])\n",
    "y_test.reset_index(drop=True, inplace=True)\n",
    "y_test_prediction_merge = pd.concat([y_test, prediction_df], axis=1)"
   ]
  },
  {
   "cell_type": "code",
   "execution_count": null,
   "metadata": {},
   "outputs": [],
   "source": [
    "plt.scatter(y_test_prediction_merge['ORDER_Quantity'], y_test_prediction_merge['Predicted Quantity'])\n",
    "plt.xlabel('Actual Quantity')\n",
    "plt.ylabel('Predicted Quantity')\n",
    "plt.show()"
   ]
  },
  {
   "cell_type": "code",
   "execution_count": null,
   "metadata": {},
   "outputs": [],
   "source": [
    "mse = mean_squared_error(y_test_prediction_merge['ORDER_Quantity'], y_test_prediction_merge['Predicted Quantity'])\n",
    "mae = mean_absolute_error(y_test_prediction_merge['ORDER_Quantity'], y_test_prediction_merge['Predicted Quantity'])\n",
    "print(f'Mean Squared Error: {mse}')\n",
    "print(f'Mean Absolute Error: {mae}')"
   ]
  },
  {
   "cell_type": "markdown",
   "metadata": {},
   "source": []
  }
 ],
 "metadata": {
  "kernelspec": {
   "display_name": "dataeng-I0RnzP9p-py3.12",
   "language": "python",
   "name": "python3"
  },
  "language_info": {
   "codemirror_mode": {
    "name": "ipython",
    "version": 3
   },
   "file_extension": ".py",
   "mimetype": "text/x-python",
   "name": "python",
   "nbconvert_exporter": "python",
   "pygments_lexer": "ipython3",
   "version": "3.12.2"
  }
 },
 "nbformat": 4,
 "nbformat_minor": 2
}
